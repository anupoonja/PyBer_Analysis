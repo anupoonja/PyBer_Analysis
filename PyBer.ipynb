{
  "nbformat": 4,
  "nbformat_minor": 0,
  "metadata": {
    "colab": {
      "name": "PyBer.ipynb",
      "provenance": [],
      "collapsed_sections": []
    },
    "kernelspec": {
      "name": "python3",
      "display_name": "Python 3"
    }
  },
  "cells": [
    {
      "cell_type": "code",
      "metadata": {
        "id": "RoXnr7UnHJiM",
        "colab_type": "code",
        "colab": {}
      },
      "source": [
        "%matplotlib inline"
      ],
      "execution_count": 10,
      "outputs": []
    },
    {
      "cell_type": "code",
      "metadata": {
        "id": "LoHrJ5S2HdmD",
        "colab_type": "code",
        "colab": {}
      },
      "source": [
        "# Import dependencies\n",
        "import matplotlib.pyplot as plt\n",
        "import numpy as np\n",
        "import pandas as pd"
      ],
      "execution_count": 11,
      "outputs": []
    },
    {
      "cell_type": "code",
      "metadata": {
        "id": "Gu64wLzCHlmK",
        "colab_type": "code",
        "colab": {}
      },
      "source": [
        "# Files to load\n",
        "city_data_to_load = \"Resources/city_data.csv\"\n",
        "ride_data_to_load = \"Resources/ride_data.csv\"\n",
        "\n"
      ],
      "execution_count": 12,
      "outputs": []
    },
    {
      "cell_type": "code",
      "metadata": {
        "id": "r95oaHkxIE34",
        "colab_type": "code",
        "colab": {
          "base_uri": "https://localhost:8080/",
          "height": 343
        },
        "outputId": "544ea47c-d482-4d2c-94f1-9ac138a91ee1"
      },
      "source": [
        "# Read the city data file and store it in a pandas DataFrame.\n",
        "city_data_df = pd.read_csv(city_data_to_load)\n",
        "city_data_df.head(10)"
      ],
      "execution_count": 13,
      "outputs": [
        {
          "output_type": "execute_result",
          "data": {
            "text/html": [
              "<div>\n",
              "<style scoped>\n",
              "    .dataframe tbody tr th:only-of-type {\n",
              "        vertical-align: middle;\n",
              "    }\n",
              "\n",
              "    .dataframe tbody tr th {\n",
              "        vertical-align: top;\n",
              "    }\n",
              "\n",
              "    .dataframe thead th {\n",
              "        text-align: right;\n",
              "    }\n",
              "</style>\n",
              "<table border=\"1\" class=\"dataframe\">\n",
              "  <thead>\n",
              "    <tr style=\"text-align: right;\">\n",
              "      <th></th>\n",
              "      <th>city</th>\n",
              "      <th>driver_count</th>\n",
              "      <th>type</th>\n",
              "    </tr>\n",
              "  </thead>\n",
              "  <tbody>\n",
              "    <tr>\n",
              "      <th>0</th>\n",
              "      <td>Richardfort</td>\n",
              "      <td>38</td>\n",
              "      <td>Urban</td>\n",
              "    </tr>\n",
              "    <tr>\n",
              "      <th>1</th>\n",
              "      <td>Williamsstad</td>\n",
              "      <td>59</td>\n",
              "      <td>Urban</td>\n",
              "    </tr>\n",
              "    <tr>\n",
              "      <th>2</th>\n",
              "      <td>Port Angela</td>\n",
              "      <td>67</td>\n",
              "      <td>Urban</td>\n",
              "    </tr>\n",
              "    <tr>\n",
              "      <th>3</th>\n",
              "      <td>Rodneyfort</td>\n",
              "      <td>34</td>\n",
              "      <td>Urban</td>\n",
              "    </tr>\n",
              "    <tr>\n",
              "      <th>4</th>\n",
              "      <td>West Robert</td>\n",
              "      <td>39</td>\n",
              "      <td>Urban</td>\n",
              "    </tr>\n",
              "    <tr>\n",
              "      <th>5</th>\n",
              "      <td>West Anthony</td>\n",
              "      <td>70</td>\n",
              "      <td>Urban</td>\n",
              "    </tr>\n",
              "    <tr>\n",
              "      <th>6</th>\n",
              "      <td>West Angela</td>\n",
              "      <td>48</td>\n",
              "      <td>Urban</td>\n",
              "    </tr>\n",
              "    <tr>\n",
              "      <th>7</th>\n",
              "      <td>Martinezhaven</td>\n",
              "      <td>25</td>\n",
              "      <td>Urban</td>\n",
              "    </tr>\n",
              "    <tr>\n",
              "      <th>8</th>\n",
              "      <td>Karenberg</td>\n",
              "      <td>22</td>\n",
              "      <td>Urban</td>\n",
              "    </tr>\n",
              "    <tr>\n",
              "      <th>9</th>\n",
              "      <td>Barajasview</td>\n",
              "      <td>26</td>\n",
              "      <td>Urban</td>\n",
              "    </tr>\n",
              "  </tbody>\n",
              "</table>\n",
              "</div>"
            ],
            "text/plain": [
              "            city  driver_count   type\n",
              "0    Richardfort            38  Urban\n",
              "1   Williamsstad            59  Urban\n",
              "2    Port Angela            67  Urban\n",
              "3     Rodneyfort            34  Urban\n",
              "4    West Robert            39  Urban\n",
              "5   West Anthony            70  Urban\n",
              "6    West Angela            48  Urban\n",
              "7  Martinezhaven            25  Urban\n",
              "8      Karenberg            22  Urban\n",
              "9    Barajasview            26  Urban"
            ]
          },
          "metadata": {
            "tags": []
          },
          "execution_count": 13
        }
      ]
    },
    {
      "cell_type": "code",
      "metadata": {
        "id": "XgH2LWOcIHcR",
        "colab_type": "code",
        "colab": {
          "base_uri": "https://localhost:8080/",
          "height": 343
        },
        "outputId": "53d6c04f-a833-4336-ab53-34dc34908ce2"
      },
      "source": [
        "# Read the ride data file and store it in a pandas DataFrame.\n",
        "ride_data_df = pd.read_csv(ride_data_to_load)\n",
        "ride_data_df.head(10)"
      ],
      "execution_count": 14,
      "outputs": [
        {
          "output_type": "execute_result",
          "data": {
            "text/html": [
              "<div>\n",
              "<style scoped>\n",
              "    .dataframe tbody tr th:only-of-type {\n",
              "        vertical-align: middle;\n",
              "    }\n",
              "\n",
              "    .dataframe tbody tr th {\n",
              "        vertical-align: top;\n",
              "    }\n",
              "\n",
              "    .dataframe thead th {\n",
              "        text-align: right;\n",
              "    }\n",
              "</style>\n",
              "<table border=\"1\" class=\"dataframe\">\n",
              "  <thead>\n",
              "    <tr style=\"text-align: right;\">\n",
              "      <th></th>\n",
              "      <th>city</th>\n",
              "      <th>date</th>\n",
              "      <th>fare</th>\n",
              "      <th>ride_id</th>\n",
              "    </tr>\n",
              "  </thead>\n",
              "  <tbody>\n",
              "    <tr>\n",
              "      <th>0</th>\n",
              "      <td>Lake Jonathanshire</td>\n",
              "      <td>2019-01-14 10:14:22</td>\n",
              "      <td>13.83</td>\n",
              "      <td>5739410935873</td>\n",
              "    </tr>\n",
              "    <tr>\n",
              "      <th>1</th>\n",
              "      <td>South Michelleport</td>\n",
              "      <td>2019-03-04 18:24:09</td>\n",
              "      <td>30.24</td>\n",
              "      <td>2343912425577</td>\n",
              "    </tr>\n",
              "    <tr>\n",
              "      <th>2</th>\n",
              "      <td>Port Samanthamouth</td>\n",
              "      <td>2019-02-24 04:29:00</td>\n",
              "      <td>33.44</td>\n",
              "      <td>2005065760003</td>\n",
              "    </tr>\n",
              "    <tr>\n",
              "      <th>3</th>\n",
              "      <td>Rodneyfort</td>\n",
              "      <td>2019-02-10 23:22:03</td>\n",
              "      <td>23.44</td>\n",
              "      <td>5149245426178</td>\n",
              "    </tr>\n",
              "    <tr>\n",
              "      <th>4</th>\n",
              "      <td>South Jack</td>\n",
              "      <td>2019-03-06 04:28:35</td>\n",
              "      <td>34.58</td>\n",
              "      <td>3908451377344</td>\n",
              "    </tr>\n",
              "    <tr>\n",
              "      <th>5</th>\n",
              "      <td>South Latoya</td>\n",
              "      <td>2019-03-11 12:26:48</td>\n",
              "      <td>9.52</td>\n",
              "      <td>1994999424437</td>\n",
              "    </tr>\n",
              "    <tr>\n",
              "      <th>6</th>\n",
              "      <td>New Paulville</td>\n",
              "      <td>2019-02-27 11:17:56</td>\n",
              "      <td>43.25</td>\n",
              "      <td>793208410091</td>\n",
              "    </tr>\n",
              "    <tr>\n",
              "      <th>7</th>\n",
              "      <td>Simpsonburgh</td>\n",
              "      <td>2019-04-26 00:43:24</td>\n",
              "      <td>35.98</td>\n",
              "      <td>111953927754</td>\n",
              "    </tr>\n",
              "    <tr>\n",
              "      <th>8</th>\n",
              "      <td>South Karenland</td>\n",
              "      <td>2019-01-08 03:28:48</td>\n",
              "      <td>35.09</td>\n",
              "      <td>7995623208694</td>\n",
              "    </tr>\n",
              "    <tr>\n",
              "      <th>9</th>\n",
              "      <td>North Jasmine</td>\n",
              "      <td>2019-03-09 06:26:29</td>\n",
              "      <td>42.81</td>\n",
              "      <td>5327642267789</td>\n",
              "    </tr>\n",
              "  </tbody>\n",
              "</table>\n",
              "</div>"
            ],
            "text/plain": [
              "                 city                 date   fare        ride_id\n",
              "0  Lake Jonathanshire  2019-01-14 10:14:22  13.83  5739410935873\n",
              "1  South Michelleport  2019-03-04 18:24:09  30.24  2343912425577\n",
              "2  Port Samanthamouth  2019-02-24 04:29:00  33.44  2005065760003\n",
              "3          Rodneyfort  2019-02-10 23:22:03  23.44  5149245426178\n",
              "4          South Jack  2019-03-06 04:28:35  34.58  3908451377344\n",
              "5        South Latoya  2019-03-11 12:26:48   9.52  1994999424437\n",
              "6       New Paulville  2019-02-27 11:17:56  43.25   793208410091\n",
              "7        Simpsonburgh  2019-04-26 00:43:24  35.98   111953927754\n",
              "8     South Karenland  2019-01-08 03:28:48  35.09  7995623208694\n",
              "9       North Jasmine  2019-03-09 06:26:29  42.81  5327642267789"
            ]
          },
          "metadata": {
            "tags": []
          },
          "execution_count": 14
        }
      ]
    },
    {
      "cell_type": "code",
      "metadata": {
        "id": "z1dpUE18IKU5",
        "colab_type": "code",
        "colab": {
          "base_uri": "https://localhost:8080/",
          "height": 84
        },
        "outputId": "c1ec5af5-11d4-4694-aad1-10cde065855c"
      },
      "source": [
        "# Get the columns and the rows that are not null.\n",
        "city_data_df.count()"
      ],
      "execution_count": 15,
      "outputs": [
        {
          "output_type": "execute_result",
          "data": {
            "text/plain": [
              "city            120\n",
              "driver_count    120\n",
              "type            120\n",
              "dtype: int64"
            ]
          },
          "metadata": {
            "tags": []
          },
          "execution_count": 15
        }
      ]
    },
    {
      "cell_type": "code",
      "metadata": {
        "id": "-RvKZgeVIXFq",
        "colab_type": "code",
        "colab": {
          "base_uri": "https://localhost:8080/",
          "height": 84
        },
        "outputId": "b63ce06c-5602-40bc-e390-ef3d4e287960"
      },
      "source": [
        "# Get the columns and the rows that are not null.\n",
        "city_data_df.isnull().sum()"
      ],
      "execution_count": 16,
      "outputs": [
        {
          "output_type": "execute_result",
          "data": {
            "text/plain": [
              "city            0\n",
              "driver_count    0\n",
              "type            0\n",
              "dtype: int64"
            ]
          },
          "metadata": {
            "tags": []
          },
          "execution_count": 16
        }
      ]
    },
    {
      "cell_type": "code",
      "metadata": {
        "id": "svfrblKEIdbp",
        "colab_type": "code",
        "colab": {
          "base_uri": "https://localhost:8080/",
          "height": 84
        },
        "outputId": "a30021b9-dc14-489c-beb7-110dc39ea61a"
      },
      "source": [
        "# Get the data types of each column.\n",
        "city_data_df.dtypes"
      ],
      "execution_count": 17,
      "outputs": [
        {
          "output_type": "execute_result",
          "data": {
            "text/plain": [
              "city            object\n",
              "driver_count     int64\n",
              "type            object\n",
              "dtype: object"
            ]
          },
          "metadata": {
            "tags": []
          },
          "execution_count": 17
        }
      ]
    },
    {
      "cell_type": "code",
      "metadata": {
        "id": "A06kMSdlIlbR",
        "colab_type": "code",
        "colab": {
          "base_uri": "https://localhost:8080/",
          "height": 34
        },
        "outputId": "e9c438f1-c623-4fed-f7ed-13030688d06f"
      },
      "source": [
        "# Get the unique values of the type of city.\n",
        "city_data_df[\"type\"].unique()"
      ],
      "execution_count": 18,
      "outputs": [
        {
          "output_type": "execute_result",
          "data": {
            "text/plain": [
              "array(['Urban', 'Suburban', 'Rural'], dtype=object)"
            ]
          },
          "metadata": {
            "tags": []
          },
          "execution_count": 18
        }
      ]
    },
    {
      "cell_type": "code",
      "metadata": {
        "id": "8MHpa2PyIz9g",
        "colab_type": "code",
        "colab": {
          "base_uri": "https://localhost:8080/",
          "height": 34
        },
        "outputId": "10783bfc-e8ba-495f-82f3-899929c7680f"
      },
      "source": [
        "# Get the number of data points from the Urban cities.\n",
        "sum(city_data_df[\"type\"]==\"Urban\")"
      ],
      "execution_count": 19,
      "outputs": [
        {
          "output_type": "execute_result",
          "data": {
            "text/plain": [
              "66"
            ]
          },
          "metadata": {
            "tags": []
          },
          "execution_count": 19
        }
      ]
    },
    {
      "cell_type": "code",
      "metadata": {
        "id": "zAFCnAGsI6ih",
        "colab_type": "code",
        "colab": {
          "base_uri": "https://localhost:8080/",
          "height": 34
        },
        "outputId": "5825f106-7e43-42ce-c220-348940b6732b"
      },
      "source": [
        "# Get the number of data points from the Suburban cities.\n",
        "sum(city_data_df[\"type\"]==\"Suburban\")"
      ],
      "execution_count": 20,
      "outputs": [
        {
          "output_type": "execute_result",
          "data": {
            "text/plain": [
              "36"
            ]
          },
          "metadata": {
            "tags": []
          },
          "execution_count": 20
        }
      ]
    },
    {
      "cell_type": "code",
      "metadata": {
        "id": "0nqhTIGwI6uR",
        "colab_type": "code",
        "colab": {
          "base_uri": "https://localhost:8080/",
          "height": 34
        },
        "outputId": "125ad84d-79da-4f78-d87a-14d81766644f"
      },
      "source": [
        "# Get the number of data points from the Rural cities.\n",
        "sum(city_data_df[\"type\"]==\"Rural\")"
      ],
      "execution_count": 21,
      "outputs": [
        {
          "output_type": "execute_result",
          "data": {
            "text/plain": [
              "18"
            ]
          },
          "metadata": {
            "tags": []
          },
          "execution_count": 21
        }
      ]
    },
    {
      "cell_type": "code",
      "metadata": {
        "id": "N0fiAf8HJNhK",
        "colab_type": "code",
        "colab": {
          "base_uri": "https://localhost:8080/",
          "height": 101
        },
        "outputId": "63dd255f-59ab-4ad8-cab4-187edead1cf9"
      },
      "source": [
        "# Get the columns and the rows that are not null.\n",
        "ride_data_df.count()"
      ],
      "execution_count": 22,
      "outputs": [
        {
          "output_type": "execute_result",
          "data": {
            "text/plain": [
              "city       2375\n",
              "date       2375\n",
              "fare       2375\n",
              "ride_id    2375\n",
              "dtype: int64"
            ]
          },
          "metadata": {
            "tags": []
          },
          "execution_count": 22
        }
      ]
    },
    {
      "cell_type": "code",
      "metadata": {
        "id": "KzeEjTpLJR4C",
        "colab_type": "code",
        "colab": {
          "base_uri": "https://localhost:8080/",
          "height": 101
        },
        "outputId": "f2c0ba38-116c-44c8-cf0c-e3cd10268199"
      },
      "source": [
        "# Get the columns and the rows that are not null.\n",
        "ride_data_df.isnull().sum()"
      ],
      "execution_count": 23,
      "outputs": [
        {
          "output_type": "execute_result",
          "data": {
            "text/plain": [
              "city       0\n",
              "date       0\n",
              "fare       0\n",
              "ride_id    0\n",
              "dtype: int64"
            ]
          },
          "metadata": {
            "tags": []
          },
          "execution_count": 23
        }
      ]
    },
    {
      "cell_type": "code",
      "metadata": {
        "id": "UVGv4pyhJajy",
        "colab_type": "code",
        "colab": {
          "base_uri": "https://localhost:8080/",
          "height": 101
        },
        "outputId": "7dcf5f3a-2192-4e7c-ec1d-00470fd1fd0b"
      },
      "source": [
        "# Get the data types of each column.\n",
        "ride_data_df.dtypes"
      ],
      "execution_count": 24,
      "outputs": [
        {
          "output_type": "execute_result",
          "data": {
            "text/plain": [
              "city        object\n",
              "date        object\n",
              "fare       float64\n",
              "ride_id      int64\n",
              "dtype: object"
            ]
          },
          "metadata": {
            "tags": []
          },
          "execution_count": 24
        }
      ]
    },
    {
      "cell_type": "code",
      "metadata": {
        "id": "AuteYIw8Jbrx",
        "colab_type": "code",
        "colab": {
          "base_uri": "https://localhost:8080/",
          "height": 343
        },
        "outputId": "c10caa46-7f82-440d-b4f1-4167e2a2a5ac"
      },
      "source": [
        "# Combine the data into a single dataset\n",
        "pyber_data_df = pd.merge(ride_data_df, city_data_df, how='left', on=['city','city'] )\n",
        "\n",
        "# Display the DataFrame\n",
        "pyber_data_df.head(10)"
      ],
      "execution_count": 25,
      "outputs": [
        {
          "output_type": "execute_result",
          "data": {
            "text/html": [
              "<div>\n",
              "<style scoped>\n",
              "    .dataframe tbody tr th:only-of-type {\n",
              "        vertical-align: middle;\n",
              "    }\n",
              "\n",
              "    .dataframe tbody tr th {\n",
              "        vertical-align: top;\n",
              "    }\n",
              "\n",
              "    .dataframe thead th {\n",
              "        text-align: right;\n",
              "    }\n",
              "</style>\n",
              "<table border=\"1\" class=\"dataframe\">\n",
              "  <thead>\n",
              "    <tr style=\"text-align: right;\">\n",
              "      <th></th>\n",
              "      <th>city</th>\n",
              "      <th>date</th>\n",
              "      <th>fare</th>\n",
              "      <th>ride_id</th>\n",
              "      <th>driver_count</th>\n",
              "      <th>type</th>\n",
              "    </tr>\n",
              "  </thead>\n",
              "  <tbody>\n",
              "    <tr>\n",
              "      <th>0</th>\n",
              "      <td>Lake Jonathanshire</td>\n",
              "      <td>2019-01-14 10:14:22</td>\n",
              "      <td>13.83</td>\n",
              "      <td>5739410935873</td>\n",
              "      <td>5</td>\n",
              "      <td>Urban</td>\n",
              "    </tr>\n",
              "    <tr>\n",
              "      <th>1</th>\n",
              "      <td>South Michelleport</td>\n",
              "      <td>2019-03-04 18:24:09</td>\n",
              "      <td>30.24</td>\n",
              "      <td>2343912425577</td>\n",
              "      <td>72</td>\n",
              "      <td>Urban</td>\n",
              "    </tr>\n",
              "    <tr>\n",
              "      <th>2</th>\n",
              "      <td>Port Samanthamouth</td>\n",
              "      <td>2019-02-24 04:29:00</td>\n",
              "      <td>33.44</td>\n",
              "      <td>2005065760003</td>\n",
              "      <td>57</td>\n",
              "      <td>Urban</td>\n",
              "    </tr>\n",
              "    <tr>\n",
              "      <th>3</th>\n",
              "      <td>Rodneyfort</td>\n",
              "      <td>2019-02-10 23:22:03</td>\n",
              "      <td>23.44</td>\n",
              "      <td>5149245426178</td>\n",
              "      <td>34</td>\n",
              "      <td>Urban</td>\n",
              "    </tr>\n",
              "    <tr>\n",
              "      <th>4</th>\n",
              "      <td>South Jack</td>\n",
              "      <td>2019-03-06 04:28:35</td>\n",
              "      <td>34.58</td>\n",
              "      <td>3908451377344</td>\n",
              "      <td>46</td>\n",
              "      <td>Urban</td>\n",
              "    </tr>\n",
              "    <tr>\n",
              "      <th>5</th>\n",
              "      <td>South Latoya</td>\n",
              "      <td>2019-03-11 12:26:48</td>\n",
              "      <td>9.52</td>\n",
              "      <td>1994999424437</td>\n",
              "      <td>10</td>\n",
              "      <td>Urban</td>\n",
              "    </tr>\n",
              "    <tr>\n",
              "      <th>6</th>\n",
              "      <td>New Paulville</td>\n",
              "      <td>2019-02-27 11:17:56</td>\n",
              "      <td>43.25</td>\n",
              "      <td>793208410091</td>\n",
              "      <td>44</td>\n",
              "      <td>Urban</td>\n",
              "    </tr>\n",
              "    <tr>\n",
              "      <th>7</th>\n",
              "      <td>Simpsonburgh</td>\n",
              "      <td>2019-04-26 00:43:24</td>\n",
              "      <td>35.98</td>\n",
              "      <td>111953927754</td>\n",
              "      <td>21</td>\n",
              "      <td>Urban</td>\n",
              "    </tr>\n",
              "    <tr>\n",
              "      <th>8</th>\n",
              "      <td>South Karenland</td>\n",
              "      <td>2019-01-08 03:28:48</td>\n",
              "      <td>35.09</td>\n",
              "      <td>7995623208694</td>\n",
              "      <td>4</td>\n",
              "      <td>Urban</td>\n",
              "    </tr>\n",
              "    <tr>\n",
              "      <th>9</th>\n",
              "      <td>North Jasmine</td>\n",
              "      <td>2019-03-09 06:26:29</td>\n",
              "      <td>42.81</td>\n",
              "      <td>5327642267789</td>\n",
              "      <td>33</td>\n",
              "      <td>Urban</td>\n",
              "    </tr>\n",
              "  </tbody>\n",
              "</table>\n",
              "</div>"
            ],
            "text/plain": [
              "                 city                 date  ...  driver_count   type\n",
              "0  Lake Jonathanshire  2019-01-14 10:14:22  ...             5  Urban\n",
              "1  South Michelleport  2019-03-04 18:24:09  ...            72  Urban\n",
              "2  Port Samanthamouth  2019-02-24 04:29:00  ...            57  Urban\n",
              "3          Rodneyfort  2019-02-10 23:22:03  ...            34  Urban\n",
              "4          South Jack  2019-03-06 04:28:35  ...            46  Urban\n",
              "5        South Latoya  2019-03-11 12:26:48  ...            10  Urban\n",
              "6       New Paulville  2019-02-27 11:17:56  ...            44  Urban\n",
              "7        Simpsonburgh  2019-04-26 00:43:24  ...            21  Urban\n",
              "8     South Karenland  2019-01-08 03:28:48  ...             4  Urban\n",
              "9       North Jasmine  2019-03-09 06:26:29  ...            33  Urban\n",
              "\n",
              "[10 rows x 6 columns]"
            ]
          },
          "metadata": {
            "tags": []
          },
          "execution_count": 25
        }
      ]
    },
    {
      "cell_type": "code",
      "metadata": {
        "id": "hXU-iD9mLPBz",
        "colab_type": "code",
        "colab": {
          "base_uri": "https://localhost:8080/",
          "height": 343
        },
        "outputId": "a8589ae3-a693-4ef7-de2f-4e2473df13c5"
      },
      "source": [
        "# Create the Urban city DataFrame.\n",
        "urban_cities_df = pyber_data_df[pyber_data_df[\"type\"] == \"Urban\"]\n",
        "urban_cities_df.head(10)"
      ],
      "execution_count": 26,
      "outputs": [
        {
          "output_type": "execute_result",
          "data": {
            "text/html": [
              "<div>\n",
              "<style scoped>\n",
              "    .dataframe tbody tr th:only-of-type {\n",
              "        vertical-align: middle;\n",
              "    }\n",
              "\n",
              "    .dataframe tbody tr th {\n",
              "        vertical-align: top;\n",
              "    }\n",
              "\n",
              "    .dataframe thead th {\n",
              "        text-align: right;\n",
              "    }\n",
              "</style>\n",
              "<table border=\"1\" class=\"dataframe\">\n",
              "  <thead>\n",
              "    <tr style=\"text-align: right;\">\n",
              "      <th></th>\n",
              "      <th>city</th>\n",
              "      <th>date</th>\n",
              "      <th>fare</th>\n",
              "      <th>ride_id</th>\n",
              "      <th>driver_count</th>\n",
              "      <th>type</th>\n",
              "    </tr>\n",
              "  </thead>\n",
              "  <tbody>\n",
              "    <tr>\n",
              "      <th>0</th>\n",
              "      <td>Lake Jonathanshire</td>\n",
              "      <td>2019-01-14 10:14:22</td>\n",
              "      <td>13.83</td>\n",
              "      <td>5739410935873</td>\n",
              "      <td>5</td>\n",
              "      <td>Urban</td>\n",
              "    </tr>\n",
              "    <tr>\n",
              "      <th>1</th>\n",
              "      <td>South Michelleport</td>\n",
              "      <td>2019-03-04 18:24:09</td>\n",
              "      <td>30.24</td>\n",
              "      <td>2343912425577</td>\n",
              "      <td>72</td>\n",
              "      <td>Urban</td>\n",
              "    </tr>\n",
              "    <tr>\n",
              "      <th>2</th>\n",
              "      <td>Port Samanthamouth</td>\n",
              "      <td>2019-02-24 04:29:00</td>\n",
              "      <td>33.44</td>\n",
              "      <td>2005065760003</td>\n",
              "      <td>57</td>\n",
              "      <td>Urban</td>\n",
              "    </tr>\n",
              "    <tr>\n",
              "      <th>3</th>\n",
              "      <td>Rodneyfort</td>\n",
              "      <td>2019-02-10 23:22:03</td>\n",
              "      <td>23.44</td>\n",
              "      <td>5149245426178</td>\n",
              "      <td>34</td>\n",
              "      <td>Urban</td>\n",
              "    </tr>\n",
              "    <tr>\n",
              "      <th>4</th>\n",
              "      <td>South Jack</td>\n",
              "      <td>2019-03-06 04:28:35</td>\n",
              "      <td>34.58</td>\n",
              "      <td>3908451377344</td>\n",
              "      <td>46</td>\n",
              "      <td>Urban</td>\n",
              "    </tr>\n",
              "    <tr>\n",
              "      <th>5</th>\n",
              "      <td>South Latoya</td>\n",
              "      <td>2019-03-11 12:26:48</td>\n",
              "      <td>9.52</td>\n",
              "      <td>1994999424437</td>\n",
              "      <td>10</td>\n",
              "      <td>Urban</td>\n",
              "    </tr>\n",
              "    <tr>\n",
              "      <th>6</th>\n",
              "      <td>New Paulville</td>\n",
              "      <td>2019-02-27 11:17:56</td>\n",
              "      <td>43.25</td>\n",
              "      <td>793208410091</td>\n",
              "      <td>44</td>\n",
              "      <td>Urban</td>\n",
              "    </tr>\n",
              "    <tr>\n",
              "      <th>7</th>\n",
              "      <td>Simpsonburgh</td>\n",
              "      <td>2019-04-26 00:43:24</td>\n",
              "      <td>35.98</td>\n",
              "      <td>111953927754</td>\n",
              "      <td>21</td>\n",
              "      <td>Urban</td>\n",
              "    </tr>\n",
              "    <tr>\n",
              "      <th>8</th>\n",
              "      <td>South Karenland</td>\n",
              "      <td>2019-01-08 03:28:48</td>\n",
              "      <td>35.09</td>\n",
              "      <td>7995623208694</td>\n",
              "      <td>4</td>\n",
              "      <td>Urban</td>\n",
              "    </tr>\n",
              "    <tr>\n",
              "      <th>9</th>\n",
              "      <td>North Jasmine</td>\n",
              "      <td>2019-03-09 06:26:29</td>\n",
              "      <td>42.81</td>\n",
              "      <td>5327642267789</td>\n",
              "      <td>33</td>\n",
              "      <td>Urban</td>\n",
              "    </tr>\n",
              "  </tbody>\n",
              "</table>\n",
              "</div>"
            ],
            "text/plain": [
              "                 city                 date  ...  driver_count   type\n",
              "0  Lake Jonathanshire  2019-01-14 10:14:22  ...             5  Urban\n",
              "1  South Michelleport  2019-03-04 18:24:09  ...            72  Urban\n",
              "2  Port Samanthamouth  2019-02-24 04:29:00  ...            57  Urban\n",
              "3          Rodneyfort  2019-02-10 23:22:03  ...            34  Urban\n",
              "4          South Jack  2019-03-06 04:28:35  ...            46  Urban\n",
              "5        South Latoya  2019-03-11 12:26:48  ...            10  Urban\n",
              "6       New Paulville  2019-02-27 11:17:56  ...            44  Urban\n",
              "7        Simpsonburgh  2019-04-26 00:43:24  ...            21  Urban\n",
              "8     South Karenland  2019-01-08 03:28:48  ...             4  Urban\n",
              "9       North Jasmine  2019-03-09 06:26:29  ...            33  Urban\n",
              "\n",
              "[10 rows x 6 columns]"
            ]
          },
          "metadata": {
            "tags": []
          },
          "execution_count": 26
        }
      ]
    },
    {
      "cell_type": "code",
      "metadata": {
        "id": "8KgItoUSOhDB",
        "colab_type": "code",
        "colab": {
          "base_uri": "https://localhost:8080/",
          "height": 195
        },
        "outputId": "2088a1cf-3914-46f5-bfcc-cf8bd8a1ef88"
      },
      "source": [
        "# Create the Suburban city DataFrame.\n",
        "suburban_cities_df = pyber_data_df[pyber_data_df[\"type\"] == \"Suburban\"]\n",
        "suburban_cities_df.head()"
      ],
      "execution_count": 27,
      "outputs": [
        {
          "output_type": "execute_result",
          "data": {
            "text/html": [
              "<div>\n",
              "<style scoped>\n",
              "    .dataframe tbody tr th:only-of-type {\n",
              "        vertical-align: middle;\n",
              "    }\n",
              "\n",
              "    .dataframe tbody tr th {\n",
              "        vertical-align: top;\n",
              "    }\n",
              "\n",
              "    .dataframe thead th {\n",
              "        text-align: right;\n",
              "    }\n",
              "</style>\n",
              "<table border=\"1\" class=\"dataframe\">\n",
              "  <thead>\n",
              "    <tr style=\"text-align: right;\">\n",
              "      <th></th>\n",
              "      <th>city</th>\n",
              "      <th>date</th>\n",
              "      <th>fare</th>\n",
              "      <th>ride_id</th>\n",
              "      <th>driver_count</th>\n",
              "      <th>type</th>\n",
              "    </tr>\n",
              "  </thead>\n",
              "  <tbody>\n",
              "    <tr>\n",
              "      <th>1625</th>\n",
              "      <td>Barronchester</td>\n",
              "      <td>2019-01-27 03:08:01</td>\n",
              "      <td>27.79</td>\n",
              "      <td>6653622887913</td>\n",
              "      <td>11</td>\n",
              "      <td>Suburban</td>\n",
              "    </tr>\n",
              "    <tr>\n",
              "      <th>1626</th>\n",
              "      <td>East Kentstad</td>\n",
              "      <td>2019-04-07 19:44:19</td>\n",
              "      <td>18.75</td>\n",
              "      <td>6575961095852</td>\n",
              "      <td>20</td>\n",
              "      <td>Suburban</td>\n",
              "    </tr>\n",
              "    <tr>\n",
              "      <th>1627</th>\n",
              "      <td>Lake Omar</td>\n",
              "      <td>2019-01-17 21:33:35</td>\n",
              "      <td>21.71</td>\n",
              "      <td>966911700371</td>\n",
              "      <td>22</td>\n",
              "      <td>Suburban</td>\n",
              "    </tr>\n",
              "    <tr>\n",
              "      <th>1628</th>\n",
              "      <td>Myersshire</td>\n",
              "      <td>2019-02-27 17:38:39</td>\n",
              "      <td>17.10</td>\n",
              "      <td>5706770909868</td>\n",
              "      <td>19</td>\n",
              "      <td>Suburban</td>\n",
              "    </tr>\n",
              "    <tr>\n",
              "      <th>1629</th>\n",
              "      <td>West Hannah</td>\n",
              "      <td>2019-04-19 01:06:59</td>\n",
              "      <td>37.78</td>\n",
              "      <td>2273047151891</td>\n",
              "      <td>12</td>\n",
              "      <td>Suburban</td>\n",
              "    </tr>\n",
              "  </tbody>\n",
              "</table>\n",
              "</div>"
            ],
            "text/plain": [
              "               city                 date  ...  driver_count      type\n",
              "1625  Barronchester  2019-01-27 03:08:01  ...            11  Suburban\n",
              "1626  East Kentstad  2019-04-07 19:44:19  ...            20  Suburban\n",
              "1627      Lake Omar  2019-01-17 21:33:35  ...            22  Suburban\n",
              "1628     Myersshire  2019-02-27 17:38:39  ...            19  Suburban\n",
              "1629    West Hannah  2019-04-19 01:06:59  ...            12  Suburban\n",
              "\n",
              "[5 rows x 6 columns]"
            ]
          },
          "metadata": {
            "tags": []
          },
          "execution_count": 27
        }
      ]
    },
    {
      "cell_type": "code",
      "metadata": {
        "id": "L4mlT6xuOpoP",
        "colab_type": "code",
        "colab": {
          "base_uri": "https://localhost:8080/",
          "height": 195
        },
        "outputId": "1e7d6bc7-6755-40d0-d5d7-0d078aa64543"
      },
      "source": [
        "# Create the Rural city DataFrame.\n",
        "rural_cities_df = pyber_data_df[pyber_data_df[\"type\"] == \"Rural\"]\n",
        "rural_cities_df.head()"
      ],
      "execution_count": 28,
      "outputs": [
        {
          "output_type": "execute_result",
          "data": {
            "text/html": [
              "<div>\n",
              "<style scoped>\n",
              "    .dataframe tbody tr th:only-of-type {\n",
              "        vertical-align: middle;\n",
              "    }\n",
              "\n",
              "    .dataframe tbody tr th {\n",
              "        vertical-align: top;\n",
              "    }\n",
              "\n",
              "    .dataframe thead th {\n",
              "        text-align: right;\n",
              "    }\n",
              "</style>\n",
              "<table border=\"1\" class=\"dataframe\">\n",
              "  <thead>\n",
              "    <tr style=\"text-align: right;\">\n",
              "      <th></th>\n",
              "      <th>city</th>\n",
              "      <th>date</th>\n",
              "      <th>fare</th>\n",
              "      <th>ride_id</th>\n",
              "      <th>driver_count</th>\n",
              "      <th>type</th>\n",
              "    </tr>\n",
              "  </thead>\n",
              "  <tbody>\n",
              "    <tr>\n",
              "      <th>2250</th>\n",
              "      <td>Randallchester</td>\n",
              "      <td>2019-04-13 11:13:31</td>\n",
              "      <td>43.22</td>\n",
              "      <td>1076079536213</td>\n",
              "      <td>9</td>\n",
              "      <td>Rural</td>\n",
              "    </tr>\n",
              "    <tr>\n",
              "      <th>2251</th>\n",
              "      <td>North Holly</td>\n",
              "      <td>2019-02-02 14:54:00</td>\n",
              "      <td>12.42</td>\n",
              "      <td>1985256326182</td>\n",
              "      <td>8</td>\n",
              "      <td>Rural</td>\n",
              "    </tr>\n",
              "    <tr>\n",
              "      <th>2252</th>\n",
              "      <td>Michaelberg</td>\n",
              "      <td>2019-03-27 18:27:34</td>\n",
              "      <td>54.85</td>\n",
              "      <td>4421836952718</td>\n",
              "      <td>6</td>\n",
              "      <td>Rural</td>\n",
              "    </tr>\n",
              "    <tr>\n",
              "      <th>2253</th>\n",
              "      <td>Lake Latoyabury</td>\n",
              "      <td>2019-02-23 21:12:24</td>\n",
              "      <td>47.90</td>\n",
              "      <td>3269652929887</td>\n",
              "      <td>2</td>\n",
              "      <td>Rural</td>\n",
              "    </tr>\n",
              "    <tr>\n",
              "      <th>2254</th>\n",
              "      <td>Lake Latoyabury</td>\n",
              "      <td>2019-05-06 08:57:56</td>\n",
              "      <td>51.80</td>\n",
              "      <td>4018025271936</td>\n",
              "      <td>2</td>\n",
              "      <td>Rural</td>\n",
              "    </tr>\n",
              "  </tbody>\n",
              "</table>\n",
              "</div>"
            ],
            "text/plain": [
              "                 city                 date  ...  driver_count   type\n",
              "2250   Randallchester  2019-04-13 11:13:31  ...             9  Rural\n",
              "2251      North Holly  2019-02-02 14:54:00  ...             8  Rural\n",
              "2252      Michaelberg  2019-03-27 18:27:34  ...             6  Rural\n",
              "2253  Lake Latoyabury  2019-02-23 21:12:24  ...             2  Rural\n",
              "2254  Lake Latoyabury  2019-05-06 08:57:56  ...             2  Rural\n",
              "\n",
              "[5 rows x 6 columns]"
            ]
          },
          "metadata": {
            "tags": []
          },
          "execution_count": 28
        }
      ]
    },
    {
      "cell_type": "code",
      "metadata": {
        "id": "e0bNIU1VO77v",
        "colab_type": "code",
        "colab": {
          "base_uri": "https://localhost:8080/",
          "height": 235
        },
        "outputId": "a43d5df1-a917-40e1-e276-f79d36716b8d"
      },
      "source": [
        "# Get the number of rides for urban cities.\n",
        "urban_ride_count = urban_cities_df.groupby([\"city\"]).count()[\"ride_id\"]\n",
        "urban_ride_count"
      ],
      "execution_count": 29,
      "outputs": [
        {
          "output_type": "execute_result",
          "data": {
            "text/plain": [
              "city\n",
              "Amandaburgh            18\n",
              "Barajasview            22\n",
              "Carriemouth            27\n",
              "Christopherfurt        27\n",
              "Deanville              19\n",
              "                       ..\n",
              "West Patrickchester    16\n",
              "West Robert            31\n",
              "West Samuelburgh       25\n",
              "Williamsstad           23\n",
              "Williamsview           20\n",
              "Name: ride_id, Length: 66, dtype: int64"
            ]
          },
          "metadata": {
            "tags": []
          },
          "execution_count": 29
        }
      ]
    },
    {
      "cell_type": "code",
      "metadata": {
        "id": "5s9E1pfIPlBH",
        "colab_type": "code",
        "colab": {}
      },
      "source": [
        "# Create the suburban and rural ride count.\n",
        "suburban_ride_count = suburban_cities_df.groupby([\"city\"]).count()[\"ride_id\"]\n",
        "#suburban_ride_count.head()\n",
        "rural_ride_count = rural_cities_df.groupby([\"city\"]).count()[\"ride_id\"]\n",
        "#rural_ride_count"
      ],
      "execution_count": 30,
      "outputs": []
    },
    {
      "cell_type": "code",
      "metadata": {
        "id": "DlO6y4_CQX4H",
        "colab_type": "code",
        "colab": {
          "base_uri": "https://localhost:8080/",
          "height": 134
        },
        "outputId": "806a2416-e921-447d-87ac-0711c30174f4"
      },
      "source": [
        "# Get average fare for each city in the urban cities.\n",
        "urban_avg_fare = urban_cities_df.groupby([\"city\"]).mean()[\"fare\"]\n",
        "urban_avg_fare.head()"
      ],
      "execution_count": 31,
      "outputs": [
        {
          "output_type": "execute_result",
          "data": {
            "text/plain": [
              "city\n",
              "Amandaburgh        24.641667\n",
              "Barajasview        25.332273\n",
              "Carriemouth        28.314444\n",
              "Christopherfurt    24.501852\n",
              "Deanville          25.842632\n",
              "Name: fare, dtype: float64"
            ]
          },
          "metadata": {
            "tags": []
          },
          "execution_count": 31
        }
      ]
    },
    {
      "cell_type": "code",
      "metadata": {
        "id": "rfBcJadcRMiY",
        "colab_type": "code",
        "colab": {}
      },
      "source": [
        "# Get average fare for each city in the suburban and rural cities.\n",
        "suburban_avg_fare = suburban_cities_df.groupby([\"city\"]).mean()[\"fare\"]\n",
        "rural_avg_fare = rural_cities_df.groupby([\"city\"]).mean()[\"fare\"]"
      ],
      "execution_count": 32,
      "outputs": []
    },
    {
      "cell_type": "code",
      "metadata": {
        "id": "QdN2SgiTRTLf",
        "colab_type": "code",
        "colab": {
          "base_uri": "https://localhost:8080/",
          "height": 134
        },
        "outputId": "717ade90-0a70-4734-e1ea-b23fd3aa7686"
      },
      "source": [
        "# Get average number of drivers for urban cities.\n",
        "urban_driver_count = urban_cities_df.groupby([\"city\"]).mean()[\"driver_count\"]\n",
        "urban_driver_count.head()"
      ],
      "execution_count": 33,
      "outputs": [
        {
          "output_type": "execute_result",
          "data": {
            "text/plain": [
              "city\n",
              "Amandaburgh        12.0\n",
              "Barajasview        26.0\n",
              "Carriemouth        52.0\n",
              "Christopherfurt    41.0\n",
              "Deanville          49.0\n",
              "Name: driver_count, dtype: float64"
            ]
          },
          "metadata": {
            "tags": []
          },
          "execution_count": 33
        }
      ]
    },
    {
      "cell_type": "code",
      "metadata": {
        "id": "mO-j0XuSRvb4",
        "colab_type": "code",
        "colab": {}
      },
      "source": [
        "# Get the average number of drivers for each city for the suburban and rural cities.\n",
        "suburban_driver_count = suburban_cities_df.groupby([\"city\"]).mean()[\"driver_count\"]\n",
        "rural_driver_count = rural_cities_df.groupby([\"city\"]).mean()[\"driver_count\"]"
      ],
      "execution_count": 34,
      "outputs": []
    },
    {
      "cell_type": "code",
      "metadata": {
        "id": "v7CB0qq_Rxkm",
        "colab_type": "code",
        "colab": {}
      },
      "source": [
        "# x-axis : urban_ride_count , suburban_ride_count , rural_ride_count\n",
        "# y-axis : urban_avg_fare , suburban_avg_fare , rural_avg_fare\n",
        "# Size of each marker : urban_driver_count , suburban_driver_count , rural_driver_count"
      ],
      "execution_count": 35,
      "outputs": []
    },
    {
      "cell_type": "code",
      "metadata": {
        "id": "jV0F8NktSaag",
        "colab_type": "code",
        "colab": {
          "base_uri": "https://localhost:8080/",
          "height": 295
        },
        "outputId": "81292e00-2359-4614-ec6e-aa7f92549a6e"
      },
      "source": [
        "# Build the scatter plots for urban cities.\n",
        "#plt.scatter(urban_ride_count, urban_avg_fare, s=urban_driver_count)\n",
        "plt.scatter(urban_ride_count, urban_avg_fare, s=10*urban_driver_count, \n",
        "            c=\"coral\", edgecolor=\"k\", linewidths=1,\n",
        "            label=\"Urban\")\n",
        "plt.title(\"PyBer Ride-Sharing Data (2019)\")\n",
        "plt.ylabel(\"Average Fare ($)\")\n",
        "plt.xlabel(\"Total Number of Rides (Per City)\")\n",
        "plt.grid(True)\n",
        "# Add the legend.\n",
        "plt.legend()\n",
        "plt.show()"
      ],
      "execution_count": 36,
      "outputs": [
        {
          "output_type": "display_data",
          "data": {
            "image/png": "[encoded data removed]",
            "text/plain": [
              "<Figure size 432x288 with 1 Axes>"
            ]
          },
          "metadata": {
            "tags": [],
            "needs_background": "light"
          }
        }
      ]
    },
    {
      "cell_type": "code",
      "metadata": {
        "id": "XlSSWC_ZTp0f",
        "colab_type": "code",
        "colab": {
          "base_uri": "https://localhost:8080/",
          "height": 295
        },
        "outputId": "212207af-ff9f-432b-c3cd-80df0cd98a93"
      },
      "source": [
        "# Build the scatter plots for suburban cities.\n",
        "plt.scatter(suburban_ride_count, suburban_avg_fare, s=10*suburban_driver_count,\n",
        "            color='skyblue', edgecolor='k', linewidths=1,\n",
        "            label=\"Suburban\")\n",
        "plt.title(\"PyBer Ride-Sharing Data (2019)\")\n",
        "plt.ylabel(\"Average Fare ($)\")\n",
        "plt.xlabel(\"Total Number of Rides (Per City)\")\n",
        "plt.grid(True)\n",
        "# Add the legend.\n",
        "plt.legend()\n",
        "plt.show()"
      ],
      "execution_count": 37,
      "outputs": [
        {
          "output_type": "display_data",
          "data": {
            "image/png": "[encoded data removed]",
            "text/plain": [
              "<Figure size 432x288 with 1 Axes>"
            ]
          },
          "metadata": {
            "tags": [],
            "needs_background": "light"
          }
        }
      ]
    },
    {
      "cell_type": "code",
      "metadata": {
        "id": "b1KGdnJMS_03",
        "colab_type": "code",
        "colab": {
          "base_uri": "https://localhost:8080/",
          "height": 295
        },
        "outputId": "1d5eb51c-7f3c-4a55-9f00-bc6b590e3540"
      },
      "source": [
        "# Build the scatter plots for rural cities.\n",
        "plt.scatter(rural_ride_count, rural_avg_fare, s=10*rural_driver_count,\n",
        "            color='gold', edgecolor='k', linewidths=1,\n",
        "            label=\"Rural\")\n",
        "plt.title(\"PyBer Ride-Sharing Data (2019)\")\n",
        "plt.ylabel(\"Average Fare ($)\")\n",
        "plt.xlabel(\"Total Number of Rides (Per City)\")\n",
        "plt.grid(True)\n",
        "# Add the legend.\n",
        "plt.legend()\n",
        "plt.show()"
      ],
      "execution_count": 38,
      "outputs": [
        {
          "output_type": "display_data",
          "data": {
            "image/png": "[encoded data removed]",
            "text/plain": [
              "<Figure size 432x288 with 1 Axes>"
            ]
          },
          "metadata": {
            "tags": [],
            "needs_background": "light"
          }
        }
      ]
    },
    {
      "cell_type": "code",
      "metadata": {
        "id": "6ZREwbJ2VCeO",
        "colab_type": "code",
        "colab": {
          "base_uri": "https://localhost:8080/",
          "height": 303
        },
        "outputId": "f83e07b1-3d84-4dcc-d6cb-9d36d3a236cf"
      },
      "source": [
        "# Add the scatter charts for each type of city.\n",
        "plt.scatter(urban_ride_count, urban_avg_fare, s=10*urban_driver_count, \n",
        "            c=\"coral\", edgecolor=\"k\", linewidths=1,\n",
        "            alpha=0.8, label=\"Urban\")\n",
        "\n",
        "plt.scatter(suburban_ride_count,\n",
        "      suburban_avg_fare,\n",
        "      s=10*suburban_driver_count, c=\"skyblue\",\n",
        "      edgecolor=\"black\", linewidths=1,\n",
        "      alpha=0.8, label=\"Suburban\")\n",
        "\n",
        "plt.scatter(rural_ride_count,\n",
        "      rural_avg_fare,\n",
        "      s=10*rural_driver_count, c=\"gold\",\n",
        "      edgecolor=\"black\", linewidths=1,\n",
        "      alpha=0.8, label=\"Rural\")\n",
        "\n",
        "# Incorporate the other graph properties\n",
        "plt.title(\"PyBer Ride-Sharing Data (2019)\", fontsize=20)\n",
        "plt.ylabel(\"Average Fare ($)\", fontsize=12)\n",
        "plt.xlabel(\"Total Number of Rides (Per City)\", fontsize=12)\n",
        "plt.grid(True)\n",
        "\n",
        "# Create a legend\n",
        "lgnd = plt.legend(fontsize=\"12\", mode=\"Expanded\",\n",
        "         scatterpoints=1, loc=\"best\", title=\"City Types\")\n",
        "lgnd.legendHandles[0]._sizes = [75]\n",
        "lgnd.legendHandles[1]._sizes = [75]\n",
        "lgnd.legendHandles[2]._sizes = [75]\n",
        "lgnd.get_title().set_fontsize(12)\n",
        "\n",
        "# Incorporate a text label about circle size.\n",
        "plt.text(42, 35, \"Note: Circle size correlates with driver count per city.\", fontsize=\"12\")\n",
        "\n",
        "# Save the figure.\n",
        "plt.savefig(\"analysis/Fig1.png\")\n",
        "\n",
        "# Show the plot\n",
        "plt.show()"
      ],
      "execution_count": 39,
      "outputs": [
        {
          "output_type": "display_data",
          "data": {
            "image/png": "[encoded data removed]",
            "text/plain": [
              "<Figure size 432x288 with 1 Axes>"
            ]
          },
          "metadata": {
            "tags": [],
            "needs_background": "light"
          }
        }
      ]
    },
    {
      "cell_type": "code",
      "metadata": {
        "id": "N5R811SzQuC6",
        "colab_type": "code",
        "colab": {
          "base_uri": "https://localhost:8080/",
          "height": 284
        },
        "outputId": "3a22610c-a0be-4ce6-fd06-eddf43ddf162"
      },
      "source": [
        "# Get summary statistics.\n",
        "urban_cities_df.describe()"
      ],
      "execution_count": 41,
      "outputs": [
        {
          "output_type": "execute_result",
          "data": {
            "text/html": [
              "<div>\n",
              "<style scoped>\n",
              "    .dataframe tbody tr th:only-of-type {\n",
              "        vertical-align: middle;\n",
              "    }\n",
              "\n",
              "    .dataframe tbody tr th {\n",
              "        vertical-align: top;\n",
              "    }\n",
              "\n",
              "    .dataframe thead th {\n",
              "        text-align: right;\n",
              "    }\n",
              "</style>\n",
              "<table border=\"1\" class=\"dataframe\">\n",
              "  <thead>\n",
              "    <tr style=\"text-align: right;\">\n",
              "      <th></th>\n",
              "      <th>fare</th>\n",
              "      <th>ride_id</th>\n",
              "      <th>driver_count</th>\n",
              "    </tr>\n",
              "  </thead>\n",
              "  <tbody>\n",
              "    <tr>\n",
              "      <th>count</th>\n",
              "      <td>1625.000000</td>\n",
              "      <td>1.625000e+03</td>\n",
              "      <td>1625.000000</td>\n",
              "    </tr>\n",
              "    <tr>\n",
              "      <th>mean</th>\n",
              "      <td>24.525772</td>\n",
              "      <td>4.873485e+12</td>\n",
              "      <td>36.678154</td>\n",
              "    </tr>\n",
              "    <tr>\n",
              "      <th>std</th>\n",
              "      <td>11.738649</td>\n",
              "      <td>2.907440e+12</td>\n",
              "      <td>20.075545</td>\n",
              "    </tr>\n",
              "    <tr>\n",
              "      <th>min</th>\n",
              "      <td>4.050000</td>\n",
              "      <td>1.458810e+10</td>\n",
              "      <td>3.000000</td>\n",
              "    </tr>\n",
              "    <tr>\n",
              "      <th>25%</th>\n",
              "      <td>14.550000</td>\n",
              "      <td>2.400244e+12</td>\n",
              "      <td>22.000000</td>\n",
              "    </tr>\n",
              "    <tr>\n",
              "      <th>50%</th>\n",
              "      <td>24.640000</td>\n",
              "      <td>4.711188e+12</td>\n",
              "      <td>37.000000</td>\n",
              "    </tr>\n",
              "    <tr>\n",
              "      <th>75%</th>\n",
              "      <td>34.580000</td>\n",
              "      <td>7.451579e+12</td>\n",
              "      <td>52.000000</td>\n",
              "    </tr>\n",
              "    <tr>\n",
              "      <th>max</th>\n",
              "      <td>44.970000</td>\n",
              "      <td>9.991538e+12</td>\n",
              "      <td>73.000000</td>\n",
              "    </tr>\n",
              "  </tbody>\n",
              "</table>\n",
              "</div>"
            ],
            "text/plain": [
              "              fare       ride_id  driver_count\n",
              "count  1625.000000  1.625000e+03   1625.000000\n",
              "mean     24.525772  4.873485e+12     36.678154\n",
              "std      11.738649  2.907440e+12     20.075545\n",
              "min       4.050000  1.458810e+10      3.000000\n",
              "25%      14.550000  2.400244e+12     22.000000\n",
              "50%      24.640000  4.711188e+12     37.000000\n",
              "75%      34.580000  7.451579e+12     52.000000\n",
              "max      44.970000  9.991538e+12     73.000000"
            ]
          },
          "metadata": {
            "tags": []
          },
          "execution_count": 41
        }
      ]
    },
    {
      "cell_type": "code",
      "metadata": {
        "id": "9XjIAV7LRZkX",
        "colab_type": "code",
        "colab": {
          "base_uri": "https://localhost:8080/",
          "height": 284
        },
        "outputId": "67706425-11b4-44b8-e47e-84dca80430f6"
      },
      "source": [
        "# Get summary statistics.\n",
        "suburban_cities_df.describe()"
      ],
      "execution_count": 42,
      "outputs": [
        {
          "output_type": "execute_result",
          "data": {
            "text/html": [
              "<div>\n",
              "<style scoped>\n",
              "    .dataframe tbody tr th:only-of-type {\n",
              "        vertical-align: middle;\n",
              "    }\n",
              "\n",
              "    .dataframe tbody tr th {\n",
              "        vertical-align: top;\n",
              "    }\n",
              "\n",
              "    .dataframe thead th {\n",
              "        text-align: right;\n",
              "    }\n",
              "</style>\n",
              "<table border=\"1\" class=\"dataframe\">\n",
              "  <thead>\n",
              "    <tr style=\"text-align: right;\">\n",
              "      <th></th>\n",
              "      <th>fare</th>\n",
              "      <th>ride_id</th>\n",
              "      <th>driver_count</th>\n",
              "    </tr>\n",
              "  </thead>\n",
              "  <tbody>\n",
              "    <tr>\n",
              "      <th>count</th>\n",
              "      <td>625.000000</td>\n",
              "      <td>6.250000e+02</td>\n",
              "      <td>625.000000</td>\n",
              "    </tr>\n",
              "    <tr>\n",
              "      <th>mean</th>\n",
              "      <td>30.970128</td>\n",
              "      <td>4.971015e+12</td>\n",
              "      <td>13.712000</td>\n",
              "    </tr>\n",
              "    <tr>\n",
              "      <th>std</th>\n",
              "      <td>10.677508</td>\n",
              "      <td>2.912410e+12</td>\n",
              "      <td>8.042372</td>\n",
              "    </tr>\n",
              "    <tr>\n",
              "      <th>min</th>\n",
              "      <td>12.050000</td>\n",
              "      <td>3.218337e+08</td>\n",
              "      <td>1.000000</td>\n",
              "    </tr>\n",
              "    <tr>\n",
              "      <th>25%</th>\n",
              "      <td>21.970000</td>\n",
              "      <td>2.364253e+12</td>\n",
              "      <td>5.000000</td>\n",
              "    </tr>\n",
              "    <tr>\n",
              "      <th>50%</th>\n",
              "      <td>30.750000</td>\n",
              "      <td>5.053221e+12</td>\n",
              "      <td>16.000000</td>\n",
              "    </tr>\n",
              "    <tr>\n",
              "      <th>75%</th>\n",
              "      <td>39.830000</td>\n",
              "      <td>7.551674e+12</td>\n",
              "      <td>21.000000</td>\n",
              "    </tr>\n",
              "    <tr>\n",
              "      <th>max</th>\n",
              "      <td>49.960000</td>\n",
              "      <td>9.917744e+12</td>\n",
              "      <td>25.000000</td>\n",
              "    </tr>\n",
              "  </tbody>\n",
              "</table>\n",
              "</div>"
            ],
            "text/plain": [
              "             fare       ride_id  driver_count\n",
              "count  625.000000  6.250000e+02    625.000000\n",
              "mean    30.970128  4.971015e+12     13.712000\n",
              "std     10.677508  2.912410e+12      8.042372\n",
              "min     12.050000  3.218337e+08      1.000000\n",
              "25%     21.970000  2.364253e+12      5.000000\n",
              "50%     30.750000  5.053221e+12     16.000000\n",
              "75%     39.830000  7.551674e+12     21.000000\n",
              "max     49.960000  9.917744e+12     25.000000"
            ]
          },
          "metadata": {
            "tags": []
          },
          "execution_count": 42
        }
      ]
    },
    {
      "cell_type": "code",
      "metadata": {
        "id": "tZS7G1cDRfFW",
        "colab_type": "code",
        "colab": {
          "base_uri": "https://localhost:8080/",
          "height": 284
        },
        "outputId": "5c2f263b-4d7e-457d-bd4d-a4f19f3c2cad"
      },
      "source": [
        "# Get summary statistics.\n",
        "rural_cities_df.describe()"
      ],
      "execution_count": 43,
      "outputs": [
        {
          "output_type": "execute_result",
          "data": {
            "text/html": [
              "<div>\n",
              "<style scoped>\n",
              "    .dataframe tbody tr th:only-of-type {\n",
              "        vertical-align: middle;\n",
              "    }\n",
              "\n",
              "    .dataframe tbody tr th {\n",
              "        vertical-align: top;\n",
              "    }\n",
              "\n",
              "    .dataframe thead th {\n",
              "        text-align: right;\n",
              "    }\n",
              "</style>\n",
              "<table border=\"1\" class=\"dataframe\">\n",
              "  <thead>\n",
              "    <tr style=\"text-align: right;\">\n",
              "      <th></th>\n",
              "      <th>fare</th>\n",
              "      <th>ride_id</th>\n",
              "      <th>driver_count</th>\n",
              "    </tr>\n",
              "  </thead>\n",
              "  <tbody>\n",
              "    <tr>\n",
              "      <th>count</th>\n",
              "      <td>125.000000</td>\n",
              "      <td>1.250000e+02</td>\n",
              "      <td>125.000000</td>\n",
              "    </tr>\n",
              "    <tr>\n",
              "      <th>mean</th>\n",
              "      <td>34.623440</td>\n",
              "      <td>4.647746e+12</td>\n",
              "      <td>4.296000</td>\n",
              "    </tr>\n",
              "    <tr>\n",
              "      <th>std</th>\n",
              "      <td>14.558046</td>\n",
              "      <td>2.887834e+12</td>\n",
              "      <td>2.691156</td>\n",
              "    </tr>\n",
              "    <tr>\n",
              "      <th>min</th>\n",
              "      <td>10.110000</td>\n",
              "      <td>2.684873e+10</td>\n",
              "      <td>1.000000</td>\n",
              "    </tr>\n",
              "    <tr>\n",
              "      <th>25%</th>\n",
              "      <td>19.900000</td>\n",
              "      <td>2.275364e+12</td>\n",
              "      <td>1.000000</td>\n",
              "    </tr>\n",
              "    <tr>\n",
              "      <th>50%</th>\n",
              "      <td>37.050000</td>\n",
              "      <td>4.023962e+12</td>\n",
              "      <td>4.000000</td>\n",
              "    </tr>\n",
              "    <tr>\n",
              "      <th>75%</th>\n",
              "      <td>47.070000</td>\n",
              "      <td>7.118047e+12</td>\n",
              "      <td>7.000000</td>\n",
              "    </tr>\n",
              "    <tr>\n",
              "      <th>max</th>\n",
              "      <td>58.550000</td>\n",
              "      <td>9.990581e+12</td>\n",
              "      <td>9.000000</td>\n",
              "    </tr>\n",
              "  </tbody>\n",
              "</table>\n",
              "</div>"
            ],
            "text/plain": [
              "             fare       ride_id  driver_count\n",
              "count  125.000000  1.250000e+02    125.000000\n",
              "mean    34.623440  4.647746e+12      4.296000\n",
              "std     14.558046  2.887834e+12      2.691156\n",
              "min     10.110000  2.684873e+10      1.000000\n",
              "25%     19.900000  2.275364e+12      1.000000\n",
              "50%     37.050000  4.023962e+12      4.000000\n",
              "75%     47.070000  7.118047e+12      7.000000\n",
              "max     58.550000  9.990581e+12      9.000000"
            ]
          },
          "metadata": {
            "tags": []
          },
          "execution_count": 43
        }
      ]
    },
    {
      "cell_type": "code",
      "metadata": {
        "id": "32UKk2uJRkTP",
        "colab_type": "code",
        "colab": {
          "base_uri": "https://localhost:8080/",
          "height": 168
        },
        "outputId": "0edfdf81-4628-40e3-f7da-e205a4bf26a6"
      },
      "source": [
        "# Get summary statistics.\n",
        "urban_ride_count.describe()"
      ],
      "execution_count": 44,
      "outputs": [
        {
          "output_type": "execute_result",
          "data": {
            "text/plain": [
              "count    66.000000\n",
              "mean     24.621212\n",
              "std       5.408726\n",
              "min      12.000000\n",
              "25%      21.000000\n",
              "50%      24.000000\n",
              "75%      28.000000\n",
              "max      39.000000\n",
              "Name: ride_id, dtype: float64"
            ]
          },
          "metadata": {
            "tags": []
          },
          "execution_count": 44
        }
      ]
    },
    {
      "cell_type": "code",
      "metadata": {
        "id": "Y5xIPmgqRmfm",
        "colab_type": "code",
        "colab": {
          "base_uri": "https://localhost:8080/",
          "height": 168
        },
        "outputId": "e1c107c2-e2dd-4455-db6a-10ef08b69f31"
      },
      "source": [
        "# Get summary statistics.\n",
        "suburban_ride_count.describe()"
      ],
      "execution_count": 45,
      "outputs": [
        {
          "output_type": "execute_result",
          "data": {
            "text/plain": [
              "count    36.000000\n",
              "mean     17.361111\n",
              "std       4.323707\n",
              "min       9.000000\n",
              "25%      14.000000\n",
              "50%      17.000000\n",
              "75%      19.250000\n",
              "max      27.000000\n",
              "Name: ride_id, dtype: float64"
            ]
          },
          "metadata": {
            "tags": []
          },
          "execution_count": 45
        }
      ]
    },
    {
      "cell_type": "code",
      "metadata": {
        "id": "DIXf-D0WRq13",
        "colab_type": "code",
        "colab": {
          "base_uri": "https://localhost:8080/",
          "height": 168
        },
        "outputId": "8b960da8-70e5-411c-f126-0528b931ccc7"
      },
      "source": [
        "# Get summary statistics.\n",
        "rural_ride_count.describe()"
      ],
      "execution_count": 46,
      "outputs": [
        {
          "output_type": "execute_result",
          "data": {
            "text/plain": [
              "count    18.000000\n",
              "mean      6.944444\n",
              "std       2.508157\n",
              "min       3.000000\n",
              "25%       5.250000\n",
              "50%       6.000000\n",
              "75%       8.750000\n",
              "max      12.000000\n",
              "Name: ride_id, dtype: float64"
            ]
          },
          "metadata": {
            "tags": []
          },
          "execution_count": 46
        }
      ]
    },
    {
      "cell_type": "code",
      "metadata": {
        "id": "UwT35BOsR-RG",
        "colab_type": "code",
        "colab": {
          "base_uri": "https://localhost:8080/",
          "height": 34
        },
        "outputId": "82a1b2c6-1c8e-42d4-c141-23aa532508cd"
      },
      "source": [
        "# Calculate the mean of the ride count for each city type.\n",
        "round(urban_ride_count.mean(),2), round(suburban_ride_count.mean(),2), round(rural_ride_count.mean(),2)"
      ],
      "execution_count": 47,
      "outputs": [
        {
          "output_type": "execute_result",
          "data": {
            "text/plain": [
              "(24.62, 17.36, 6.94)"
            ]
          },
          "metadata": {
            "tags": []
          },
          "execution_count": 47
        }
      ]
    },
    {
      "cell_type": "code",
      "metadata": {
        "id": "S5zHRLN4SN4G",
        "colab_type": "code",
        "colab": {
          "base_uri": "https://localhost:8080/",
          "height": 34
        },
        "outputId": "09180712-3733-4fc0-8a7f-2f7f4f668e1c"
      },
      "source": [
        "# Calculate the median of the ride count for each city type.\n",
        "round(urban_ride_count.median(),2), round(suburban_ride_count.median(),2), round(rural_ride_count.median(),2)"
      ],
      "execution_count": 48,
      "outputs": [
        {
          "output_type": "execute_result",
          "data": {
            "text/plain": [
              "(24.0, 17.0, 6.0)"
            ]
          },
          "metadata": {
            "tags": []
          },
          "execution_count": 48
        }
      ]
    },
    {
      "cell_type": "code",
      "metadata": {
        "id": "w0QdxgNVSee5",
        "colab_type": "code",
        "colab": {
          "base_uri": "https://localhost:8080/",
          "height": 67
        },
        "outputId": "aefe26b4-4caf-4dfc-9370-252aced88655"
      },
      "source": [
        "#Calculate the mode of the ride count for the urban cities.\n",
        "urban_ride_count.mode()"
      ],
      "execution_count": 49,
      "outputs": [
        {
          "output_type": "execute_result",
          "data": {
            "text/plain": [
              "0    22\n",
              "1    25\n",
              "dtype: int64"
            ]
          },
          "metadata": {
            "tags": []
          },
          "execution_count": 49
        }
      ]
    },
    {
      "cell_type": "code",
      "metadata": {
        "id": "m4PDiO_2Sm9w",
        "colab_type": "code",
        "colab": {
          "base_uri": "https://localhost:8080/",
          "height": 50
        },
        "outputId": "d0ceb3d5-e790-4e27-c528-8e41f653bbe8"
      },
      "source": [
        "#Calculate the mode of the ride count for the suburban cities.\n",
        "suburban_ride_count.mode()"
      ],
      "execution_count": 50,
      "outputs": [
        {
          "output_type": "execute_result",
          "data": {
            "text/plain": [
              "0    17\n",
              "dtype: int64"
            ]
          },
          "metadata": {
            "tags": []
          },
          "execution_count": 50
        }
      ]
    },
    {
      "cell_type": "code",
      "metadata": {
        "id": "3E-BaZVSSq12",
        "colab_type": "code",
        "colab": {
          "base_uri": "https://localhost:8080/",
          "height": 50
        },
        "outputId": "9e808c44-12cd-4392-90e6-0fa35d48570d"
      },
      "source": [
        "#Calculate the mode of the ride count for the rural cities.\n",
        "rural_ride_count.mode()"
      ],
      "execution_count": 51,
      "outputs": [
        {
          "output_type": "execute_result",
          "data": {
            "text/plain": [
              "0    6\n",
              "dtype: int64"
            ]
          },
          "metadata": {
            "tags": []
          },
          "execution_count": 51
        }
      ]
    },
    {
      "cell_type": "code",
      "metadata": {
        "id": "FdoDcjZESzL-",
        "colab_type": "code",
        "colab": {}
      },
      "source": [
        "# Import NumPy and the stats module from SciPy.\n",
        "import numpy as np\n",
        "import scipy.stats as sts"
      ],
      "execution_count": 52,
      "outputs": []
    },
    {
      "cell_type": "code",
      "metadata": {
        "id": "KJW4b-FzS2k_",
        "colab_type": "code",
        "colab": {
          "base_uri": "https://localhost:8080/",
          "height": 67
        },
        "outputId": "278fd058-b0b9-41a5-8244-d3b698ab69d1"
      },
      "source": [
        "# Calculate the measures of central tendency for the ride count for the urban cities.\n",
        "mean_urban_ride_count = np.mean(urban_ride_count)\n",
        "print(f\"The mean for the ride counts for urban trips is {mean_urban_ride_count:.2f}.\")\n",
        "\n",
        "median_urban_ride_count = np.median(urban_ride_count)\n",
        "print(f\"The median for the ride counts for urban trips is {median_urban_ride_count}.\")\n",
        "\n",
        "mode_urban_ride_count = sts.mode(urban_ride_count)\n",
        "print(f\"The mode for the ride counts for urban trips is {mode_urban_ride_count}.\")"
      ],
      "execution_count": 59,
      "outputs": [
        {
          "output_type": "stream",
          "text": [
            "The mean for the ride counts for urban trips is 24.62.\n",
            "The median for the ride counts for urban trips is 24.0.\n",
            "The mode for the ride counts for urban trips is ModeResult(mode=array([22]), count=array([7])).\n"
          ],
          "name": "stdout"
        }
      ]
    },
    {
      "cell_type": "code",
      "metadata": {
        "id": "bhRBkvJ-Tztg",
        "colab_type": "code",
        "colab": {
          "base_uri": "https://localhost:8080/",
          "height": 67
        },
        "outputId": "578cc8d7-ef8f-4ac4-c201-4f290d8d6aab"
      },
      "source": [
        "# Calculate the measures of central tendency for the ride count for the suburban cities.\n",
        "mean_suburban_ride_count = np.mean(suburban_ride_count)\n",
        "print(f\"The mean for the ride count for suburban trips is {mean_suburban_ride_count:.2f}.\")\n",
        "\n",
        "median_suburban_ride_count = np.median(suburban_ride_count)\n",
        "print(f\"The median for the ride counts for suburban trips is {median_suburban_ride_count}.\")\n",
        "\n",
        "mode_suburban_ride_count = sts.mode(suburban_ride_count)\n",
        "print(f\"The mode for the ride counts for suburban trips is {mode_suburban_ride_count}.\")\n",
        "\n"
      ],
      "execution_count": 60,
      "outputs": [
        {
          "output_type": "stream",
          "text": [
            "The mean for the ride count for suburban trips is 17.36.\n",
            "The median for the ride counts for suburban trips is 17.0.\n",
            "The mode for the ride counts for suburban trips is ModeResult(mode=array([17]), count=array([7])).\n"
          ],
          "name": "stdout"
        }
      ]
    },
    {
      "cell_type": "code",
      "metadata": {
        "id": "laMsd96eUaSw",
        "colab_type": "code",
        "colab": {
          "base_uri": "https://localhost:8080/",
          "height": 67
        },
        "outputId": "56d191b5-350a-4584-f136-1be666e35392"
      },
      "source": [
        "# Calculate the measures of central tendency for the ride count for the rural cities.\n",
        "mean_rural_ride_count = np.mean(rural_ride_count)\n",
        "print(f\"The mean for the ride counts for rural trips is {mean_rural_ride_count:.2f}.\")\n",
        "\n",
        "median_rural_ride_count = np.median(rural_ride_count)\n",
        "print(f\"The median for the ride counts for rural trips is {median_rural_ride_count}.\")\n",
        "\n",
        "mode_rural_ride_count = sts.mode(rural_ride_count)\n",
        "print(f\"The mode for the ride counts for rural trips is {mode_rural_ride_count}.\")"
      ],
      "execution_count": 63,
      "outputs": [
        {
          "output_type": "stream",
          "text": [
            "The mean for the ride counts for rural trips is 6.94.\n",
            "The median for the ride counts for rural trips is 6.0.\n",
            "The mode for the ride counts for rural trips is ModeResult(mode=array([6]), count=array([5])).\n"
          ],
          "name": "stdout"
        }
      ]
    },
    {
      "cell_type": "code",
      "metadata": {
        "id": "nEWKCXr4Vr5X",
        "colab_type": "code",
        "colab": {
          "base_uri": "https://localhost:8080/",
          "height": 67
        },
        "outputId": "d431baca-b0c0-4420-9b3c-f85907bef009"
      },
      "source": [
        "# Get the fares for the urban cities.\n",
        "urban_fares = urban_cities_df[\"fare\"]\n",
        "\n",
        "# Calculate the measures of central tendency for the average fare for the urban cities.\n",
        "mean_urban_fares = np.mean(urban_fares)\n",
        "print(f\"The mean fare price for urban trips is ${mean_urban_fares:.2f}.\")\n",
        "\n",
        "median_urban_fares = np.median(urban_fares)\n",
        "print(f\"The median fare price for urban trips is ${median_urban_fares:.2f}.\")\n",
        "\n",
        "mode_urban_fares = sts.mode(urban_fares)\n",
        "print(f\"The mode fare price for urban trips is {mode_urban_fares}.\")"
      ],
      "execution_count": 65,
      "outputs": [
        {
          "output_type": "stream",
          "text": [
            "The mean fare price for urban trips is $24.53.\n",
            "The median fare price for urban trips is $24.64.\n",
            "The mode fare price for urban trips is ModeResult(mode=array([22.86]), count=array([5])).\n"
          ],
          "name": "stdout"
        }
      ]
    },
    {
      "cell_type": "code",
      "metadata": {
        "id": "bh0kDqGmV382",
        "colab_type": "code",
        "colab": {
          "base_uri": "https://localhost:8080/",
          "height": 67
        },
        "outputId": "0f0be7ab-ff7c-482f-9c3b-3a3ced1af2bd"
      },
      "source": [
        "# Get the fares for the suburban cities.\n",
        "suburban_fares = suburban_cities_df[\"fare\"]\n",
        "\n",
        "# Calculate the measures of central tendency for the average fare for the suburban cities.\n",
        "mean_suburban_fares = np.mean(suburban_fares)\n",
        "print(f\"The mean fare price for suburban trips is ${mean_suburban_fares:.2f}.\")\n",
        "\n",
        "median_suburban_fares = np.median(suburban_fares)\n",
        "print(f\"The median fare price for suburban trips is ${median_suburban_fares:.2f}.\")\n",
        "\n",
        "mode_suburban_fares = sts.mode(suburban_fares)\n",
        "print(f\"The mode fare price for suburban trips is {mode_suburban_fares}.\")"
      ],
      "execution_count": 66,
      "outputs": [
        {
          "output_type": "stream",
          "text": [
            "The mean fare price for suburban trips is $30.97.\n",
            "The median fare price for suburban trips is $30.75.\n",
            "The mode fare price for suburban trips is ModeResult(mode=array([17.99]), count=array([3])).\n"
          ],
          "name": "stdout"
        }
      ]
    },
    {
      "cell_type": "code",
      "metadata": {
        "id": "rjHBApFRWGaE",
        "colab_type": "code",
        "colab": {
          "base_uri": "https://localhost:8080/",
          "height": 67
        },
        "outputId": "3709bd69-ec3c-4fc9-dd34-edbba91bc72f"
      },
      "source": [
        "# Get the fares for the rural cities.\n",
        "rural_fares = rural_cities_df[\"fare\"]\n",
        "\n",
        "# Calculate the measures of central tendency for the average fare for the rural cities.\n",
        "mean_rural_fares = np.mean(rural_fares)\n",
        "print(f\"The mean fare price for rural trips is ${mean_rural_fares:.2f}.\")\n",
        "\n",
        "median_rural_fares = np.median(rural_fares)\n",
        "print(f\"The median fare price for rural trips is ${median_rural_fares:.2f}.\")\n",
        "\n",
        "mode_rural_fares = sts.mode(rural_fares)\n",
        "print(f\"The mode fare price for rural trips is {mode_rural_fares}.\")"
      ],
      "execution_count": 67,
      "outputs": [
        {
          "output_type": "stream",
          "text": [
            "The mean fare price for rural trips is $34.62.\n",
            "The median fare price for rural trips is $37.05.\n",
            "The mode fare price for rural trips is ModeResult(mode=array([37.05]), count=array([2])).\n"
          ],
          "name": "stdout"
        }
      ]
    },
    {
      "cell_type": "code",
      "metadata": {
        "id": "HJ-DExEtWqeQ",
        "colab_type": "code",
        "colab": {
          "base_uri": "https://localhost:8080/",
          "height": 67
        },
        "outputId": "f36ea000-de5e-4b3a-dd01-942372889aec"
      },
      "source": [
        "# Get the driver count data from the urban cities.\n",
        "urban_drivers = urban_cities_df['driver_count']\n",
        "\n",
        "# Calculate the measures of central tendency for the driver count for urban cities.\n",
        "mean_urban_driver_count = np.mean(urban_drivers)\n",
        "print(f\"The mean driver count for urban city is ${mean_urban_driver_count:.2f}.\")\n",
        "\n",
        "median_urban_driver_count = np.median(urban_drivers)\n",
        "print(f\"The median driver count for urban city is ${median_urban_driver_count}.\")\n",
        "\n",
        "mode_urban_driver_count = sts.mode(urban_drivers)\n",
        "print(f\"The mode driver count for urban city is ${mode_urban_driver_count}.\")"
      ],
      "execution_count": 75,
      "outputs": [
        {
          "output_type": "stream",
          "text": [
            "The mean driver count for urban city is $36.68.\n",
            "The median driver count for urban city is $37.0.\n",
            "The mode driver count for urban city is $ModeResult(mode=array([39]), count=array([86])).\n"
          ],
          "name": "stdout"
        }
      ]
    },
    {
      "cell_type": "code",
      "metadata": {
        "id": "B_gKjbDPXllU",
        "colab_type": "code",
        "colab": {
          "base_uri": "https://localhost:8080/",
          "height": 67
        },
        "outputId": "bc32554a-cf70-4d91-ac20-575eb3f446a3"
      },
      "source": [
        "# Get the driver count data from the suburban cities.\n",
        "suburban_drivers = suburban_cities_df['driver_count']\n",
        "\n",
        "# Calculate the measures of central tendency for the driver count for suburban cities.\n",
        "mean_suburban_driver_count = np.mean(suburban_drivers)\n",
        "print(f\"The mean driver count for suburban city is ${mean_suburban_driver_count:.2f}.\")\n",
        "\n",
        "median_suburban_driver_count = np.median(suburban_drivers)\n",
        "print(f\"The median driver count for suburban city is ${median_suburban_driver_count}.\")\n",
        "\n",
        "mode_suburban_driver_count = sts.mode(suburban_drivers)\n",
        "print(f\"The mode driver count for suburban city is ${mode_suburban_driver_count}.\")"
      ],
      "execution_count": 79,
      "outputs": [
        {
          "output_type": "stream",
          "text": [
            "The mean driver count for suburban city is $13.71.\n",
            "The median driver count for suburban city is $16.0.\n",
            "The mode driver count for suburban city is $ModeResult(mode=array([20]), count=array([79])).\n"
          ],
          "name": "stdout"
        }
      ]
    },
    {
      "cell_type": "code",
      "metadata": {
        "colab_type": "code",
        "id": "TAGzBzgHYZsh",
        "colab": {
          "base_uri": "https://localhost:8080/",
          "height": 67
        },
        "outputId": "eb53bd07-1993-4993-c598-27bb4b7f7468"
      },
      "source": [
        "# Get the driver count data from the rural cities.\n",
        "rural_drivers = rural_cities_df['driver_count']\n",
        "\n",
        "# Calculate the measures of central tendency for the driver count for rural cities.\n",
        "mean_rural_driver_count = np.mean(rural_drivers)\n",
        "print(f\"The mean driver count for rural city is ${mean_rural_driver_count:.2f}.\")\n",
        "\n",
        "median_rural_driver_count = np.median(rural_drivers)\n",
        "print(f\"The median driver count for rural city is ${median_rural_driver_count}.\")\n",
        "\n",
        "mode_rural_driver_count = sts.mode(rural_drivers)\n",
        "print(f\"The mode driver count for rural city is ${mode_rural_driver_count}.\")"
      ],
      "execution_count": 77,
      "outputs": [
        {
          "output_type": "stream",
          "text": [
            "The mean driver count for rural city is $4.30.\n",
            "The median driver count for rural city is $4.0.\n",
            "The mode driver count for rural city is $ModeResult(mode=array([1]), count=array([32])).\n"
          ],
          "name": "stdout"
        }
      ]
    },
    {
      "cell_type": "code",
      "metadata": {
        "id": "YfO7jXJfYVJP",
        "colab_type": "code",
        "colab": {
          "base_uri": "https://localhost:8080/",
          "height": 298
        },
        "outputId": "59af5b8d-105f-4a59-fb5f-752753db1d71"
      },
      "source": [
        "# Create a box-and-whisker plot for the urban cities ride count.\n",
        "x_labels = [\"Urban\"]\n",
        "fig, ax = plt.subplots()\n",
        "ax.boxplot(urban_ride_count, labels=x_labels)\n",
        "ax.set_title('Ride Count Data (2019)')\n",
        "ax.set_ylabel('Number of Rides')\n",
        "ax.set_yticks(np.arange(0,41,step=2.0))\n",
        "ax.grid()\n",
        "plt.show()"
      ],
      "execution_count": 82,
      "outputs": [
        {
          "output_type": "stream",
          "text": [
            "No handles with labels found to put in legend.\n"
          ],
          "name": "stderr"
        },
        {
          "output_type": "display_data",
          "data": {
            "image/png": "[encoded data removed]",
            "text/plain": [
              "<Figure size 432x288 with 1 Axes>"
            ]
          },
          "metadata": {
            "tags": [],
            "needs_background": "light"
          }
        }
      ]
    },
    {
      "cell_type": "code",
      "metadata": {
        "id": "GMKHIz-t6ovu",
        "colab_type": "code",
        "colab": {
          "base_uri": "https://localhost:8080/",
          "height": 281
        },
        "outputId": "d0de5eb7-2e4c-41bc-9ce0-e37d08c4925e"
      },
      "source": [
        "# Create a box-and-whisker plot for the suburban cities ride count.\n",
        "x_labels = [\"Suburban\"]\n",
        "fig, ax = plt.subplots()\n",
        "ax.boxplot(suburban_ride_count, labels=x_labels)\n",
        "ax.set_title('Ride Count Data (2019)')\n",
        "ax.set_ylabel('Number of Rides')\n",
        "ax.set_yticks(np.arange(0,31,step=2.0))\n",
        "ax.grid()\n",
        "plt.show()"
      ],
      "execution_count": 85,
      "outputs": [
        {
          "output_type": "display_data",
          "data": {
            "image/png": "[encoded data removed]",
            "text/plain": [
              "<Figure size 432x288 with 1 Axes>"
            ]
          },
          "metadata": {
            "tags": [],
            "needs_background": "light"
          }
        }
      ]
    },
    {
      "cell_type": "code",
      "metadata": {
        "id": "cs3KZqPv69gE",
        "colab_type": "code",
        "colab": {
          "base_uri": "https://localhost:8080/",
          "height": 281
        },
        "outputId": "cff6e788-c96b-4f15-f242-2634f070a282"
      },
      "source": [
        "# Create a box-and-whisker plot for the rural cities ride count.\n",
        "x_labels = [\"Rural\"]\n",
        "fig, ax = plt.subplots()\n",
        "ax.boxplot(rural_ride_count, labels=x_labels)\n",
        "ax.set_title('Ride Count Data (2019)')\n",
        "ax.set_ylabel('Number of Rides')\n",
        "ax.set_yticks(np.arange(0,17,step=2.0))\n",
        "ax.grid()\n",
        "plt.show()"
      ],
      "execution_count": 88,
      "outputs": [
        {
          "output_type": "display_data",
          "data": {
            "image/png": "[encoded data removed]",
            "text/plain": [
              "<Figure size 432x288 with 1 Axes>"
            ]
          },
          "metadata": {
            "tags": [],
            "needs_background": "light"
          }
        }
      ]
    },
    {
      "cell_type": "code",
      "metadata": {
        "id": "8rnX20jI7VB3",
        "colab_type": "code",
        "colab": {
          "base_uri": "https://localhost:8080/",
          "height": 413
        },
        "outputId": "c510fc9b-2ece-4d26-8a5b-5632aa1799a8"
      },
      "source": [
        "# Add all ride count box-and-whisker plots to the same graph.\n",
        "x_labels = [\"Urban\", \"Suburban\",\"Rural\"]\n",
        "ride_count_data = [urban_ride_count, suburban_ride_count, rural_ride_count]\n",
        "fig, ax = plt.subplots(figsize=(10, 6))\n",
        "ax.set_title('Ride Count Data (2019)',fontsize=20)\n",
        "ax.set_ylabel('Number of Rides',fontsize=14)\n",
        "ax.set_xlabel(\"City Types\",fontsize=14)\n",
        "ax.boxplot(ride_count_data, labels=x_labels)\n",
        "ax.set_yticks(np.arange(0, 45, step=3.0))\n",
        "ax.grid()\n",
        "# Save the figure.\n",
        "plt.savefig(\"analysis/Fig2.png\")\n",
        "plt.show()"
      ],
      "execution_count": 89,
      "outputs": [
        {
          "output_type": "display_data",
          "data": {
            "image/png": "[encoded data removed]",
            "text/plain": [
              "<Figure size 720x432 with 1 Axes>"
            ]
          },
          "metadata": {
            "tags": [],
            "needs_background": "light"
          }
        }
      ]
    },
    {
      "cell_type": "code",
      "metadata": {
        "id": "cer5I9i176ud",
        "colab_type": "code",
        "colab": {
          "base_uri": "https://localhost:8080/",
          "height": 34
        },
        "outputId": "98dadb4d-1f56-4ae8-9457-c93fa13b044c"
      },
      "source": [
        "# Urban has one outlier - 39\n",
        "# Get the city that matches 39.\n",
        "urban_city_outlier = urban_ride_count[urban_ride_count==39].index[0]\n",
        "print(f\"{urban_city_outlier} has the highest rider count.\")"
      ],
      "execution_count": 99,
      "outputs": [
        {
          "output_type": "stream",
          "text": [
            "West Angela has the highest rider count.\n"
          ],
          "name": "stdout"
        }
      ]
    },
    {
      "cell_type": "code",
      "metadata": {
        "id": "7mj-0xaI9Rd2",
        "colab_type": "code",
        "colab": {
          "base_uri": "https://localhost:8080/",
          "height": 449
        },
        "outputId": "42a86058-cdd2-4285-96c7-4514d16a76a2"
      },
      "source": [
        "# Create a box-and-whisker plot for the urban fare data.\n",
        "x_labels = [\"Urban\"]\n",
        "fig, ax = plt.subplots()\n",
        "ax.boxplot(urban_fares, labels=x_labels)\n",
        "ax.set_title('Ride Fare Data (2019)')\n",
        "ax.set_ylabel('Fare ($USD)')\n",
        "ax.set_yticks(np.arange(0,51,step=5.0))\n",
        "ax.grid()\n",
        "plt.show()\n",
        "print(\"Summary Statistics\")\n",
        "urban_fares.describe()"
      ],
      "execution_count": 102,
      "outputs": [
        {
          "output_type": "display_data",
          "data": {
            "image/png": "[encoded data removed]",
            "text/plain": [
              "<Figure size 432x288 with 1 Axes>"
            ]
          },
          "metadata": {
            "tags": [],
            "needs_background": "light"
          }
        },
        {
          "output_type": "stream",
          "text": [
            "Summary Statistics\n"
          ],
          "name": "stdout"
        },
        {
          "output_type": "execute_result",
          "data": {
            "text/plain": [
              "count    1625.000000\n",
              "mean       24.525772\n",
              "std        11.738649\n",
              "min         4.050000\n",
              "25%        14.550000\n",
              "50%        24.640000\n",
              "75%        34.580000\n",
              "max        44.970000\n",
              "Name: fare, dtype: float64"
            ]
          },
          "metadata": {
            "tags": []
          },
          "execution_count": 102
        }
      ]
    },
    {
      "cell_type": "code",
      "metadata": {
        "id": "5oBFUn1V95tb",
        "colab_type": "code",
        "colab": {
          "base_uri": "https://localhost:8080/",
          "height": 449
        },
        "outputId": "24d6feca-d3fa-412f-dec8-0d1cae41607f"
      },
      "source": [
        "# Create a box-and-whisker plot for the suburban fare data.\n",
        "x_labels = [\"Suburban\"]\n",
        "fig, ax = plt.subplots()\n",
        "ax.boxplot(suburban_fares, labels=x_labels)\n",
        "ax.set_title('Ride Fare Data (2019)')\n",
        "ax.set_ylabel('Fare ($USD)')\n",
        "ax.set_yticks(np.arange(0,51,step=5.0))\n",
        "ax.grid()\n",
        "plt.show()\n",
        "print(\"Summary Statistics\")\n",
        "suburban_fares.describe()"
      ],
      "execution_count": 104,
      "outputs": [
        {
          "output_type": "display_data",
          "data": {
            "image/png": "[encoded data removed]",
            "text/plain": [
              "<Figure size 432x288 with 1 Axes>"
            ]
          },
          "metadata": {
            "tags": [],
            "needs_background": "light"
          }
        },
        {
          "output_type": "stream",
          "text": [
            "Summary Statistics\n"
          ],
          "name": "stdout"
        },
        {
          "output_type": "execute_result",
          "data": {
            "text/plain": [
              "count    625.000000\n",
              "mean      30.970128\n",
              "std       10.677508\n",
              "min       12.050000\n",
              "25%       21.970000\n",
              "50%       30.750000\n",
              "75%       39.830000\n",
              "max       49.960000\n",
              "Name: fare, dtype: float64"
            ]
          },
          "metadata": {
            "tags": []
          },
          "execution_count": 104
        }
      ]
    },
    {
      "cell_type": "code",
      "metadata": {
        "id": "Lwby5zhn-MUr",
        "colab_type": "code",
        "colab": {
          "base_uri": "https://localhost:8080/",
          "height": 449
        },
        "outputId": "f4a2fac6-3e1d-4bc5-cf46-bcdc3ea41eff"
      },
      "source": [
        "# Create a box-and-whisker plot for the rural fare data.\n",
        "x_labels = [\"Rural\"]\n",
        "fig, ax = plt.subplots()\n",
        "ax.boxplot(rural_fares, labels=x_labels)\n",
        "ax.set_title('Ride Fare Data (2019)')\n",
        "ax.set_ylabel('Fare ($USD)')\n",
        "ax.set_yticks(np.arange(0,66,step=5.0))\n",
        "ax.grid()\n",
        "plt.show()\n",
        "print(\"Summary Statistics\")\n",
        "rural_fares.describe()"
      ],
      "execution_count": 110,
      "outputs": [
        {
          "output_type": "display_data",
          "data": {
            "image/png": "[encoded data removed]",
            "text/plain": [
              "<Figure size 432x288 with 1 Axes>"
            ]
          },
          "metadata": {
            "tags": [],
            "needs_background": "light"
          }
        },
        {
          "output_type": "stream",
          "text": [
            "Summary Statistics\n"
          ],
          "name": "stdout"
        },
        {
          "output_type": "execute_result",
          "data": {
            "text/plain": [
              "count    125.000000\n",
              "mean      34.623440\n",
              "std       14.558046\n",
              "min       10.110000\n",
              "25%       19.900000\n",
              "50%       37.050000\n",
              "75%       47.070000\n",
              "max       58.550000\n",
              "Name: fare, dtype: float64"
            ]
          },
          "metadata": {
            "tags": []
          },
          "execution_count": 110
        }
      ]
    },
    {
      "cell_type": "code",
      "metadata": {
        "id": "pbEVpvMg-j8M",
        "colab_type": "code",
        "colab": {
          "base_uri": "https://localhost:8080/",
          "height": 413
        },
        "outputId": "dcbc2b37-c8f2-47fe-a7e8-641251990680"
      },
      "source": [
        "# Add all ride fare box-and-whisker plots to the same graph.\n",
        "x_labels = [\"Urban\", \"Suburban\",\"Rural\"]\n",
        "ride_fare_data = [urban_fares, suburban_fares, rural_fares]\n",
        "fig, ax = plt.subplots(figsize=(10,6))\n",
        "ax.set_title('Ride Fare Data (2019)', fontsize=20)\n",
        "ax.set_ylabel('Fare ($USD)', fontsize=14)\n",
        "ax.set_xlabel(\"City Types\",fontsize=14)\n",
        "ax.set_yticks(np.arange(0,66,step=5.0))\n",
        "ax.boxplot(ride_fare_data, labels=x_labels)\n",
        "ax.grid()\n",
        "# Save the figure.\n",
        "plt.savefig(\"analysis/Fig3.png\")\n",
        "plt.show()"
      ],
      "execution_count": 117,
      "outputs": [
        {
          "output_type": "display_data",
          "data": {
            "image/png": "[encoded data removed]",
            "text/plain": [
              "<Figure size 720x432 with 1 Axes>"
            ]
          },
          "metadata": {
            "tags": [],
            "needs_background": "light"
          }
        }
      ]
    },
    {
      "cell_type": "code",
      "metadata": {
        "id": "FFOY31jzAemF",
        "colab_type": "code",
        "colab": {
          "base_uri": "https://localhost:8080/",
          "height": 449
        },
        "outputId": "16408a3e-d3cd-42bb-d27b-edc8e7af63cd"
      },
      "source": [
        "# Create a box-and-whisker plot for the urban driver count data.\n",
        "x_labels = [\"Urban\"]\n",
        "fig, ax = plt.subplots()\n",
        "ax.boxplot(urban_drivers, labels=x_labels)\n",
        "ax.set_title('Driver Count Data (2019)')\n",
        "ax.set_ylabel('Number of Drivers')\n",
        "ax.set_yticks(np.arange(0,81,step=5.0))\n",
        "ax.grid()\n",
        "plt.show()\n",
        "print(\"Summary Statistics\")\n",
        "urban_drivers.describe()"
      ],
      "execution_count": 127,
      "outputs": [
        {
          "output_type": "display_data",
          "data": {
            "image/png": "[encoded data removed]",
            "text/plain": [
              "<Figure size 432x288 with 1 Axes>"
            ]
          },
          "metadata": {
            "tags": [],
            "needs_background": "light"
          }
        },
        {
          "output_type": "stream",
          "text": [
            "Summary Statistics\n"
          ],
          "name": "stdout"
        },
        {
          "output_type": "execute_result",
          "data": {
            "text/plain": [
              "count    1625.000000\n",
              "mean       36.678154\n",
              "std        20.075545\n",
              "min         3.000000\n",
              "25%        22.000000\n",
              "50%        37.000000\n",
              "75%        52.000000\n",
              "max        73.000000\n",
              "Name: driver_count, dtype: float64"
            ]
          },
          "metadata": {
            "tags": []
          },
          "execution_count": 127
        }
      ]
    },
    {
      "cell_type": "code",
      "metadata": {
        "id": "UpkBGv20A6kl",
        "colab_type": "code",
        "colab": {
          "base_uri": "https://localhost:8080/",
          "height": 449
        },
        "outputId": "95416f0f-7d52-4aab-fc60-1d2f0c54893b"
      },
      "source": [
        "# Create a box-and-whisker plot for the suburban driver count data.\n",
        "x_labels = [\"Suburban\"]\n",
        "fig, ax = plt.subplots()\n",
        "ax.boxplot(suburban_drivers, labels=x_labels)\n",
        "ax.set_title('Driver Count Data (2019)')\n",
        "ax.set_ylabel('Number of Drivers')\n",
        "ax.set_yticks(np.arange(0,31,step=5.0))\n",
        "ax.grid()\n",
        "plt.show()\n",
        "print(\"Summary Statistics\")\n",
        "suburban_drivers.describe()"
      ],
      "execution_count": 126,
      "outputs": [
        {
          "output_type": "display_data",
          "data": {
            "image/png": "[encoded data removed]",
            "text/plain": [
              "<Figure size 432x288 with 1 Axes>"
            ]
          },
          "metadata": {
            "tags": [],
            "needs_background": "light"
          }
        },
        {
          "output_type": "stream",
          "text": [
            "Summary Statistics\n"
          ],
          "name": "stdout"
        },
        {
          "output_type": "execute_result",
          "data": {
            "text/plain": [
              "count    625.000000\n",
              "mean      13.712000\n",
              "std        8.042372\n",
              "min        1.000000\n",
              "25%        5.000000\n",
              "50%       16.000000\n",
              "75%       21.000000\n",
              "max       25.000000\n",
              "Name: driver_count, dtype: float64"
            ]
          },
          "metadata": {
            "tags": []
          },
          "execution_count": 126
        }
      ]
    },
    {
      "cell_type": "code",
      "metadata": {
        "id": "UmH1EPl_BROs",
        "colab_type": "code",
        "colab": {
          "base_uri": "https://localhost:8080/",
          "height": 449
        },
        "outputId": "9605d120-2d62-4ac0-f353-5c5ac75f7950"
      },
      "source": [
        "# Create a box-and-whisker plot for the rural driver count data.\n",
        "x_labels = [\"Rural\"]\n",
        "fig, ax = plt.subplots()\n",
        "ax.boxplot(rural_drivers, labels=x_labels)\n",
        "ax.set_title('Driver Count Data (2019)')\n",
        "ax.set_ylabel('Number of Drivers')\n",
        "ax.set_yticks(np.arange(0,11,step=2.0))\n",
        "ax.grid()\n",
        "plt.show()\n",
        "print(\"Summary Statistics\")\n",
        "rural_drivers.describe()"
      ],
      "execution_count": 132,
      "outputs": [
        {
          "output_type": "display_data",
          "data": {
            "image/png": "[encoded data removed]",
            "text/plain": [
              "<Figure size 432x288 with 1 Axes>"
            ]
          },
          "metadata": {
            "tags": [],
            "needs_background": "light"
          }
        },
        {
          "output_type": "stream",
          "text": [
            "Summary Statistics\n"
          ],
          "name": "stdout"
        },
        {
          "output_type": "execute_result",
          "data": {
            "text/plain": [
              "count    125.000000\n",
              "mean       4.296000\n",
              "std        2.691156\n",
              "min        1.000000\n",
              "25%        1.000000\n",
              "50%        4.000000\n",
              "75%        7.000000\n",
              "max        9.000000\n",
              "Name: driver_count, dtype: float64"
            ]
          },
          "metadata": {
            "tags": []
          },
          "execution_count": 132
        }
      ]
    },
    {
      "cell_type": "code",
      "metadata": {
        "id": "prj_474rB2Wn",
        "colab_type": "code",
        "colab": {
          "base_uri": "https://localhost:8080/",
          "height": 413
        },
        "outputId": "b62606f5-b457-4708-9a38-7790bc32f0f4"
      },
      "source": [
        "# Add all driver count box-and-whisker plots to the same graph.\n",
        "x_labels = [\"Urban\", \"Suburban\",\"Rural\"]\n",
        "driver_count_data = [urban_drivers, suburban_drivers, rural_drivers]\n",
        "fig, ax = plt.subplots(figsize=(10,6))\n",
        "ax.set_title('Driver Count Data (2019)', fontsize=20)\n",
        "ax.set_ylabel('Number of Drivers', fontsize=14)\n",
        "ax.set_xlabel(\"City Types\",fontsize=14)\n",
        "ax.set_yticks(np.arange(0,81,step=5.0))\n",
        "ax.boxplot(driver_count_data, labels=x_labels)\n",
        "ax.grid()\n",
        "# Save the figure.\n",
        "plt.savefig(\"analysis/Fig4.png\")\n",
        "plt.show()"
      ],
      "execution_count": 137,
      "outputs": [
        {
          "output_type": "display_data",
          "data": {
            "image/png": "[encoded data removed]",
            "text/plain": [
              "<Figure size 720x432 with 1 Axes>"
            ]
          },
          "metadata": {
            "tags": [],
            "needs_background": "light"
          }
        }
      ]
    }
  ]
}