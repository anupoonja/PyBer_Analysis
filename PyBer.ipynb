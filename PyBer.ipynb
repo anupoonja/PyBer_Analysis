{
  "nbformat": 4,
  "nbformat_minor": 0,
  "metadata": {
    "colab": {
      "name": "PyBer.ipynb",
      "provenance": []
    },
    "kernelspec": {
      "name": "python3",
      "display_name": "Python 3"
    }
  },
  "cells": [
    {
      "cell_type": "code",
      "metadata": {
        "id": "RoXnr7UnHJiM",
        "colab_type": "code",
        "colab": {}
      },
      "source": [
        "%matplotlib inline"
      ],
      "execution_count": null,
      "outputs": []
    },
    {
      "cell_type": "code",
      "metadata": {
        "id": "LoHrJ5S2HdmD",
        "colab_type": "code",
        "colab": {}
      },
      "source": [
        "# Import dependencies\n",
        "import matplotlib.pyplot as plt\n",
        "import numpy as np\n",
        "import pandas as pd"
      ],
      "execution_count": 1,
      "outputs": []
    },
    {
      "cell_type": "code",
      "metadata": {
        "id": "Gu64wLzCHlmK",
        "colab_type": "code",
        "colab": {}
      },
      "source": [
        "# Files to load\n",
        "city_data_to_load = \"Resources/city_data.csv\"\n",
        "ride_data_to_load = \"Resources/ride_data.csv\"\n",
        "\n"
      ],
      "execution_count": 4,
      "outputs": []
    },
    {
      "cell_type": "code",
      "metadata": {
        "id": "r95oaHkxIE34",
        "colab_type": "code",
        "colab": {
          "base_uri": "https://localhost:8080/",
          "height": 343
        },
        "outputId": "da34c19a-d1cb-412e-fdd5-5b04df4bbeaa"
      },
      "source": [
        "# Read the city data file and store it in a pandas DataFrame.\n",
        "city_data_df = pd.read_csv(city_data_to_load)\n",
        "city_data_df.head(10)"
      ],
      "execution_count": 5,
      "outputs": [
        {
          "output_type": "execute_result",
          "data": {
            "text/html": [
              "<div>\n",
              "<style scoped>\n",
              "    .dataframe tbody tr th:only-of-type {\n",
              "        vertical-align: middle;\n",
              "    }\n",
              "\n",
              "    .dataframe tbody tr th {\n",
              "        vertical-align: top;\n",
              "    }\n",
              "\n",
              "    .dataframe thead th {\n",
              "        text-align: right;\n",
              "    }\n",
              "</style>\n",
              "<table border=\"1\" class=\"dataframe\">\n",
              "  <thead>\n",
              "    <tr style=\"text-align: right;\">\n",
              "      <th></th>\n",
              "      <th>city</th>\n",
              "      <th>driver_count</th>\n",
              "      <th>type</th>\n",
              "    </tr>\n",
              "  </thead>\n",
              "  <tbody>\n",
              "    <tr>\n",
              "      <th>0</th>\n",
              "      <td>Richardfort</td>\n",
              "      <td>38</td>\n",
              "      <td>Urban</td>\n",
              "    </tr>\n",
              "    <tr>\n",
              "      <th>1</th>\n",
              "      <td>Williamsstad</td>\n",
              "      <td>59</td>\n",
              "      <td>Urban</td>\n",
              "    </tr>\n",
              "    <tr>\n",
              "      <th>2</th>\n",
              "      <td>Port Angela</td>\n",
              "      <td>67</td>\n",
              "      <td>Urban</td>\n",
              "    </tr>\n",
              "    <tr>\n",
              "      <th>3</th>\n",
              "      <td>Rodneyfort</td>\n",
              "      <td>34</td>\n",
              "      <td>Urban</td>\n",
              "    </tr>\n",
              "    <tr>\n",
              "      <th>4</th>\n",
              "      <td>West Robert</td>\n",
              "      <td>39</td>\n",
              "      <td>Urban</td>\n",
              "    </tr>\n",
              "    <tr>\n",
              "      <th>5</th>\n",
              "      <td>West Anthony</td>\n",
              "      <td>70</td>\n",
              "      <td>Urban</td>\n",
              "    </tr>\n",
              "    <tr>\n",
              "      <th>6</th>\n",
              "      <td>West Angela</td>\n",
              "      <td>48</td>\n",
              "      <td>Urban</td>\n",
              "    </tr>\n",
              "    <tr>\n",
              "      <th>7</th>\n",
              "      <td>Martinezhaven</td>\n",
              "      <td>25</td>\n",
              "      <td>Urban</td>\n",
              "    </tr>\n",
              "    <tr>\n",
              "      <th>8</th>\n",
              "      <td>Karenberg</td>\n",
              "      <td>22</td>\n",
              "      <td>Urban</td>\n",
              "    </tr>\n",
              "    <tr>\n",
              "      <th>9</th>\n",
              "      <td>Barajasview</td>\n",
              "      <td>26</td>\n",
              "      <td>Urban</td>\n",
              "    </tr>\n",
              "  </tbody>\n",
              "</table>\n",
              "</div>"
            ],
            "text/plain": [
              "            city  driver_count   type\n",
              "0    Richardfort            38  Urban\n",
              "1   Williamsstad            59  Urban\n",
              "2    Port Angela            67  Urban\n",
              "3     Rodneyfort            34  Urban\n",
              "4    West Robert            39  Urban\n",
              "5   West Anthony            70  Urban\n",
              "6    West Angela            48  Urban\n",
              "7  Martinezhaven            25  Urban\n",
              "8      Karenberg            22  Urban\n",
              "9    Barajasview            26  Urban"
            ]
          },
          "metadata": {
            "tags": []
          },
          "execution_count": 5
        }
      ]
    },
    {
      "cell_type": "code",
      "metadata": {
        "id": "XgH2LWOcIHcR",
        "colab_type": "code",
        "colab": {
          "base_uri": "https://localhost:8080/",
          "height": 343
        },
        "outputId": "e172f2bd-74e2-4d27-cb5e-839378874f97"
      },
      "source": [
        "# Read the ride data file and store it in a pandas DataFrame.\n",
        "ride_data_df = pd.read_csv(ride_data_to_load)\n",
        "ride_data_df.head(10)"
      ],
      "execution_count": 6,
      "outputs": [
        {
          "output_type": "execute_result",
          "data": {
            "text/html": [
              "<div>\n",
              "<style scoped>\n",
              "    .dataframe tbody tr th:only-of-type {\n",
              "        vertical-align: middle;\n",
              "    }\n",
              "\n",
              "    .dataframe tbody tr th {\n",
              "        vertical-align: top;\n",
              "    }\n",
              "\n",
              "    .dataframe thead th {\n",
              "        text-align: right;\n",
              "    }\n",
              "</style>\n",
              "<table border=\"1\" class=\"dataframe\">\n",
              "  <thead>\n",
              "    <tr style=\"text-align: right;\">\n",
              "      <th></th>\n",
              "      <th>city</th>\n",
              "      <th>date</th>\n",
              "      <th>fare</th>\n",
              "      <th>ride_id</th>\n",
              "    </tr>\n",
              "  </thead>\n",
              "  <tbody>\n",
              "    <tr>\n",
              "      <th>0</th>\n",
              "      <td>Lake Jonathanshire</td>\n",
              "      <td>2019-01-14 10:14:22</td>\n",
              "      <td>13.83</td>\n",
              "      <td>5739410935873</td>\n",
              "    </tr>\n",
              "    <tr>\n",
              "      <th>1</th>\n",
              "      <td>South Michelleport</td>\n",
              "      <td>2019-03-04 18:24:09</td>\n",
              "      <td>30.24</td>\n",
              "      <td>2343912425577</td>\n",
              "    </tr>\n",
              "    <tr>\n",
              "      <th>2</th>\n",
              "      <td>Port Samanthamouth</td>\n",
              "      <td>2019-02-24 04:29:00</td>\n",
              "      <td>33.44</td>\n",
              "      <td>2005065760003</td>\n",
              "    </tr>\n",
              "    <tr>\n",
              "      <th>3</th>\n",
              "      <td>Rodneyfort</td>\n",
              "      <td>2019-02-10 23:22:03</td>\n",
              "      <td>23.44</td>\n",
              "      <td>5149245426178</td>\n",
              "    </tr>\n",
              "    <tr>\n",
              "      <th>4</th>\n",
              "      <td>South Jack</td>\n",
              "      <td>2019-03-06 04:28:35</td>\n",
              "      <td>34.58</td>\n",
              "      <td>3908451377344</td>\n",
              "    </tr>\n",
              "    <tr>\n",
              "      <th>5</th>\n",
              "      <td>South Latoya</td>\n",
              "      <td>2019-03-11 12:26:48</td>\n",
              "      <td>9.52</td>\n",
              "      <td>1994999424437</td>\n",
              "    </tr>\n",
              "    <tr>\n",
              "      <th>6</th>\n",
              "      <td>New Paulville</td>\n",
              "      <td>2019-02-27 11:17:56</td>\n",
              "      <td>43.25</td>\n",
              "      <td>793208410091</td>\n",
              "    </tr>\n",
              "    <tr>\n",
              "      <th>7</th>\n",
              "      <td>Simpsonburgh</td>\n",
              "      <td>2019-04-26 00:43:24</td>\n",
              "      <td>35.98</td>\n",
              "      <td>111953927754</td>\n",
              "    </tr>\n",
              "    <tr>\n",
              "      <th>8</th>\n",
              "      <td>South Karenland</td>\n",
              "      <td>2019-01-08 03:28:48</td>\n",
              "      <td>35.09</td>\n",
              "      <td>7995623208694</td>\n",
              "    </tr>\n",
              "    <tr>\n",
              "      <th>9</th>\n",
              "      <td>North Jasmine</td>\n",
              "      <td>2019-03-09 06:26:29</td>\n",
              "      <td>42.81</td>\n",
              "      <td>5327642267789</td>\n",
              "    </tr>\n",
              "  </tbody>\n",
              "</table>\n",
              "</div>"
            ],
            "text/plain": [
              "                 city                 date   fare        ride_id\n",
              "0  Lake Jonathanshire  2019-01-14 10:14:22  13.83  5739410935873\n",
              "1  South Michelleport  2019-03-04 18:24:09  30.24  2343912425577\n",
              "2  Port Samanthamouth  2019-02-24 04:29:00  33.44  2005065760003\n",
              "3          Rodneyfort  2019-02-10 23:22:03  23.44  5149245426178\n",
              "4          South Jack  2019-03-06 04:28:35  34.58  3908451377344\n",
              "5        South Latoya  2019-03-11 12:26:48   9.52  1994999424437\n",
              "6       New Paulville  2019-02-27 11:17:56  43.25   793208410091\n",
              "7        Simpsonburgh  2019-04-26 00:43:24  35.98   111953927754\n",
              "8     South Karenland  2019-01-08 03:28:48  35.09  7995623208694\n",
              "9       North Jasmine  2019-03-09 06:26:29  42.81  5327642267789"
            ]
          },
          "metadata": {
            "tags": []
          },
          "execution_count": 6
        }
      ]
    },
    {
      "cell_type": "code",
      "metadata": {
        "id": "z1dpUE18IKU5",
        "colab_type": "code",
        "colab": {
          "base_uri": "https://localhost:8080/",
          "height": 84
        },
        "outputId": "d2064696-f05e-4a37-bbd3-6ac05dcbbdd8"
      },
      "source": [
        "# Get the columns and the rows that are not null.\n",
        "city_data_df.count()"
      ],
      "execution_count": 8,
      "outputs": [
        {
          "output_type": "execute_result",
          "data": {
            "text/plain": [
              "city            120\n",
              "driver_count    120\n",
              "type            120\n",
              "dtype: int64"
            ]
          },
          "metadata": {
            "tags": []
          },
          "execution_count": 8
        }
      ]
    },
    {
      "cell_type": "code",
      "metadata": {
        "id": "-RvKZgeVIXFq",
        "colab_type": "code",
        "colab": {
          "base_uri": "https://localhost:8080/",
          "height": 84
        },
        "outputId": "d7d97330-90d2-47cc-fd5d-49a0321b7bc0"
      },
      "source": [
        "# Get the columns and the rows that are not null.\n",
        "city_data_df.isnull().sum()"
      ],
      "execution_count": 9,
      "outputs": [
        {
          "output_type": "execute_result",
          "data": {
            "text/plain": [
              "city            0\n",
              "driver_count    0\n",
              "type            0\n",
              "dtype: int64"
            ]
          },
          "metadata": {
            "tags": []
          },
          "execution_count": 9
        }
      ]
    },
    {
      "cell_type": "code",
      "metadata": {
        "id": "svfrblKEIdbp",
        "colab_type": "code",
        "colab": {
          "base_uri": "https://localhost:8080/",
          "height": 84
        },
        "outputId": "e0dd66fc-cca1-4826-9200-0f37984b9f90"
      },
      "source": [
        "# Get the data types of each column.\n",
        "city_data_df.dtypes"
      ],
      "execution_count": 10,
      "outputs": [
        {
          "output_type": "execute_result",
          "data": {
            "text/plain": [
              "city            object\n",
              "driver_count     int64\n",
              "type            object\n",
              "dtype: object"
            ]
          },
          "metadata": {
            "tags": []
          },
          "execution_count": 10
        }
      ]
    },
    {
      "cell_type": "code",
      "metadata": {
        "id": "A06kMSdlIlbR",
        "colab_type": "code",
        "colab": {
          "base_uri": "https://localhost:8080/",
          "height": 34
        },
        "outputId": "39649a98-13e6-4747-c92d-120397080e84"
      },
      "source": [
        "# Get the unique values of the type of city.\n",
        "city_data_df[\"type\"].unique()"
      ],
      "execution_count": 11,
      "outputs": [
        {
          "output_type": "execute_result",
          "data": {
            "text/plain": [
              "array(['Urban', 'Suburban', 'Rural'], dtype=object)"
            ]
          },
          "metadata": {
            "tags": []
          },
          "execution_count": 11
        }
      ]
    },
    {
      "cell_type": "code",
      "metadata": {
        "id": "8MHpa2PyIz9g",
        "colab_type": "code",
        "colab": {
          "base_uri": "https://localhost:8080/",
          "height": 34
        },
        "outputId": "7e029166-c353-4592-c097-1ae05a34ad75"
      },
      "source": [
        "# Get the number of data points from the Urban cities.\n",
        "sum(city_data_df[\"type\"]==\"Urban\")"
      ],
      "execution_count": 12,
      "outputs": [
        {
          "output_type": "execute_result",
          "data": {
            "text/plain": [
              "66"
            ]
          },
          "metadata": {
            "tags": []
          },
          "execution_count": 12
        }
      ]
    },
    {
      "cell_type": "code",
      "metadata": {
        "id": "zAFCnAGsI6ih",
        "colab_type": "code",
        "colab": {
          "base_uri": "https://localhost:8080/",
          "height": 34
        },
        "outputId": "d56df86a-7354-4f79-b6ad-d3591a009b48"
      },
      "source": [
        "# Get the number of data points from the Suburban cities.\n",
        "sum(city_data_df[\"type\"]==\"Suburban\")"
      ],
      "execution_count": 14,
      "outputs": [
        {
          "output_type": "execute_result",
          "data": {
            "text/plain": [
              "36"
            ]
          },
          "metadata": {
            "tags": []
          },
          "execution_count": 14
        }
      ]
    },
    {
      "cell_type": "code",
      "metadata": {
        "id": "0nqhTIGwI6uR",
        "colab_type": "code",
        "colab": {
          "base_uri": "https://localhost:8080/",
          "height": 34
        },
        "outputId": "e1083d13-794d-4e5c-b17a-c7b6f0e5500e"
      },
      "source": [
        "# Get the number of data points from the Rural cities.\n",
        "sum(city_data_df[\"type\"]==\"Rural\")"
      ],
      "execution_count": 15,
      "outputs": [
        {
          "output_type": "execute_result",
          "data": {
            "text/plain": [
              "18"
            ]
          },
          "metadata": {
            "tags": []
          },
          "execution_count": 15
        }
      ]
    },
    {
      "cell_type": "code",
      "metadata": {
        "id": "N0fiAf8HJNhK",
        "colab_type": "code",
        "colab": {
          "base_uri": "https://localhost:8080/",
          "height": 101
        },
        "outputId": "362715f6-9767-4f04-85f1-d5da722e389b"
      },
      "source": [
        "# Get the columns and the rows that are not null.\n",
        "ride_data_df.count()"
      ],
      "execution_count": 16,
      "outputs": [
        {
          "output_type": "execute_result",
          "data": {
            "text/plain": [
              "city       2375\n",
              "date       2375\n",
              "fare       2375\n",
              "ride_id    2375\n",
              "dtype: int64"
            ]
          },
          "metadata": {
            "tags": []
          },
          "execution_count": 16
        }
      ]
    },
    {
      "cell_type": "code",
      "metadata": {
        "id": "KzeEjTpLJR4C",
        "colab_type": "code",
        "colab": {
          "base_uri": "https://localhost:8080/",
          "height": 101
        },
        "outputId": "36530534-88dc-451d-c32b-89ae24676569"
      },
      "source": [
        "# Get the columns and the rows that are not null.\n",
        "ride_data_df.isnull().sum()"
      ],
      "execution_count": 17,
      "outputs": [
        {
          "output_type": "execute_result",
          "data": {
            "text/plain": [
              "city       0\n",
              "date       0\n",
              "fare       0\n",
              "ride_id    0\n",
              "dtype: int64"
            ]
          },
          "metadata": {
            "tags": []
          },
          "execution_count": 17
        }
      ]
    },
    {
      "cell_type": "code",
      "metadata": {
        "id": "UVGv4pyhJajy",
        "colab_type": "code",
        "colab": {
          "base_uri": "https://localhost:8080/",
          "height": 101
        },
        "outputId": "6bd86e54-a76b-41cf-f4bf-1f2cd929a585"
      },
      "source": [
        "# Get the data types of each column.\n",
        "ride_data_df.dtypes"
      ],
      "execution_count": 18,
      "outputs": [
        {
          "output_type": "execute_result",
          "data": {
            "text/plain": [
              "city        object\n",
              "date        object\n",
              "fare       float64\n",
              "ride_id      int64\n",
              "dtype: object"
            ]
          },
          "metadata": {
            "tags": []
          },
          "execution_count": 18
        }
      ]
    },
    {
      "cell_type": "code",
      "metadata": {
        "id": "AuteYIw8Jbrx",
        "colab_type": "code",
        "colab": {
          "base_uri": "https://localhost:8080/",
          "height": 343
        },
        "outputId": "57dfb2e1-28fa-40fc-d54c-d54e5f0a57ee"
      },
      "source": [
        "# Combine the data into a single dataset\n",
        "pyber_data_df = pd.merge(ride_data_df, city_data_df, how='left', on=['city','city'] )\n",
        "\n",
        "# Display the DataFrame\n",
        "pyber_data_df.head(10)"
      ],
      "execution_count": 21,
      "outputs": [
        {
          "output_type": "execute_result",
          "data": {
            "text/html": [
              "<div>\n",
              "<style scoped>\n",
              "    .dataframe tbody tr th:only-of-type {\n",
              "        vertical-align: middle;\n",
              "    }\n",
              "\n",
              "    .dataframe tbody tr th {\n",
              "        vertical-align: top;\n",
              "    }\n",
              "\n",
              "    .dataframe thead th {\n",
              "        text-align: right;\n",
              "    }\n",
              "</style>\n",
              "<table border=\"1\" class=\"dataframe\">\n",
              "  <thead>\n",
              "    <tr style=\"text-align: right;\">\n",
              "      <th></th>\n",
              "      <th>city</th>\n",
              "      <th>date</th>\n",
              "      <th>fare</th>\n",
              "      <th>ride_id</th>\n",
              "      <th>driver_count</th>\n",
              "      <th>type</th>\n",
              "    </tr>\n",
              "  </thead>\n",
              "  <tbody>\n",
              "    <tr>\n",
              "      <th>0</th>\n",
              "      <td>Lake Jonathanshire</td>\n",
              "      <td>2019-01-14 10:14:22</td>\n",
              "      <td>13.83</td>\n",
              "      <td>5739410935873</td>\n",
              "      <td>5</td>\n",
              "      <td>Urban</td>\n",
              "    </tr>\n",
              "    <tr>\n",
              "      <th>1</th>\n",
              "      <td>South Michelleport</td>\n",
              "      <td>2019-03-04 18:24:09</td>\n",
              "      <td>30.24</td>\n",
              "      <td>2343912425577</td>\n",
              "      <td>72</td>\n",
              "      <td>Urban</td>\n",
              "    </tr>\n",
              "    <tr>\n",
              "      <th>2</th>\n",
              "      <td>Port Samanthamouth</td>\n",
              "      <td>2019-02-24 04:29:00</td>\n",
              "      <td>33.44</td>\n",
              "      <td>2005065760003</td>\n",
              "      <td>57</td>\n",
              "      <td>Urban</td>\n",
              "    </tr>\n",
              "    <tr>\n",
              "      <th>3</th>\n",
              "      <td>Rodneyfort</td>\n",
              "      <td>2019-02-10 23:22:03</td>\n",
              "      <td>23.44</td>\n",
              "      <td>5149245426178</td>\n",
              "      <td>34</td>\n",
              "      <td>Urban</td>\n",
              "    </tr>\n",
              "    <tr>\n",
              "      <th>4</th>\n",
              "      <td>South Jack</td>\n",
              "      <td>2019-03-06 04:28:35</td>\n",
              "      <td>34.58</td>\n",
              "      <td>3908451377344</td>\n",
              "      <td>46</td>\n",
              "      <td>Urban</td>\n",
              "    </tr>\n",
              "    <tr>\n",
              "      <th>5</th>\n",
              "      <td>South Latoya</td>\n",
              "      <td>2019-03-11 12:26:48</td>\n",
              "      <td>9.52</td>\n",
              "      <td>1994999424437</td>\n",
              "      <td>10</td>\n",
              "      <td>Urban</td>\n",
              "    </tr>\n",
              "    <tr>\n",
              "      <th>6</th>\n",
              "      <td>New Paulville</td>\n",
              "      <td>2019-02-27 11:17:56</td>\n",
              "      <td>43.25</td>\n",
              "      <td>793208410091</td>\n",
              "      <td>44</td>\n",
              "      <td>Urban</td>\n",
              "    </tr>\n",
              "    <tr>\n",
              "      <th>7</th>\n",
              "      <td>Simpsonburgh</td>\n",
              "      <td>2019-04-26 00:43:24</td>\n",
              "      <td>35.98</td>\n",
              "      <td>111953927754</td>\n",
              "      <td>21</td>\n",
              "      <td>Urban</td>\n",
              "    </tr>\n",
              "    <tr>\n",
              "      <th>8</th>\n",
              "      <td>South Karenland</td>\n",
              "      <td>2019-01-08 03:28:48</td>\n",
              "      <td>35.09</td>\n",
              "      <td>7995623208694</td>\n",
              "      <td>4</td>\n",
              "      <td>Urban</td>\n",
              "    </tr>\n",
              "    <tr>\n",
              "      <th>9</th>\n",
              "      <td>North Jasmine</td>\n",
              "      <td>2019-03-09 06:26:29</td>\n",
              "      <td>42.81</td>\n",
              "      <td>5327642267789</td>\n",
              "      <td>33</td>\n",
              "      <td>Urban</td>\n",
              "    </tr>\n",
              "  </tbody>\n",
              "</table>\n",
              "</div>"
            ],
            "text/plain": [
              "                 city                 date  ...  driver_count   type\n",
              "0  Lake Jonathanshire  2019-01-14 10:14:22  ...             5  Urban\n",
              "1  South Michelleport  2019-03-04 18:24:09  ...            72  Urban\n",
              "2  Port Samanthamouth  2019-02-24 04:29:00  ...            57  Urban\n",
              "3          Rodneyfort  2019-02-10 23:22:03  ...            34  Urban\n",
              "4          South Jack  2019-03-06 04:28:35  ...            46  Urban\n",
              "5        South Latoya  2019-03-11 12:26:48  ...            10  Urban\n",
              "6       New Paulville  2019-02-27 11:17:56  ...            44  Urban\n",
              "7        Simpsonburgh  2019-04-26 00:43:24  ...            21  Urban\n",
              "8     South Karenland  2019-01-08 03:28:48  ...             4  Urban\n",
              "9       North Jasmine  2019-03-09 06:26:29  ...            33  Urban\n",
              "\n",
              "[10 rows x 6 columns]"
            ]
          },
          "metadata": {
            "tags": []
          },
          "execution_count": 21
        }
      ]
    },
    {
      "cell_type": "code",
      "metadata": {
        "id": "hXU-iD9mLPBz",
        "colab_type": "code",
        "colab": {
          "base_uri": "https://localhost:8080/",
          "height": 343
        },
        "outputId": "3bb132b8-abe4-4952-fe91-a0b94bb0a9ec"
      },
      "source": [
        "# Create the Urban city DataFrame.\n",
        "urban_cities_df = pyber_data_df[pyber_data_df[\"type\"] == \"Urban\"]\n",
        "urban_cities_df.head(10)"
      ],
      "execution_count": 27,
      "outputs": [
        {
          "output_type": "execute_result",
          "data": {
            "text/html": [
              "<div>\n",
              "<style scoped>\n",
              "    .dataframe tbody tr th:only-of-type {\n",
              "        vertical-align: middle;\n",
              "    }\n",
              "\n",
              "    .dataframe tbody tr th {\n",
              "        vertical-align: top;\n",
              "    }\n",
              "\n",
              "    .dataframe thead th {\n",
              "        text-align: right;\n",
              "    }\n",
              "</style>\n",
              "<table border=\"1\" class=\"dataframe\">\n",
              "  <thead>\n",
              "    <tr style=\"text-align: right;\">\n",
              "      <th></th>\n",
              "      <th>city</th>\n",
              "      <th>date</th>\n",
              "      <th>fare</th>\n",
              "      <th>ride_id</th>\n",
              "      <th>driver_count</th>\n",
              "      <th>type</th>\n",
              "    </tr>\n",
              "  </thead>\n",
              "  <tbody>\n",
              "    <tr>\n",
              "      <th>0</th>\n",
              "      <td>Lake Jonathanshire</td>\n",
              "      <td>2019-01-14 10:14:22</td>\n",
              "      <td>13.83</td>\n",
              "      <td>5739410935873</td>\n",
              "      <td>5</td>\n",
              "      <td>Urban</td>\n",
              "    </tr>\n",
              "    <tr>\n",
              "      <th>1</th>\n",
              "      <td>South Michelleport</td>\n",
              "      <td>2019-03-04 18:24:09</td>\n",
              "      <td>30.24</td>\n",
              "      <td>2343912425577</td>\n",
              "      <td>72</td>\n",
              "      <td>Urban</td>\n",
              "    </tr>\n",
              "    <tr>\n",
              "      <th>2</th>\n",
              "      <td>Port Samanthamouth</td>\n",
              "      <td>2019-02-24 04:29:00</td>\n",
              "      <td>33.44</td>\n",
              "      <td>2005065760003</td>\n",
              "      <td>57</td>\n",
              "      <td>Urban</td>\n",
              "    </tr>\n",
              "    <tr>\n",
              "      <th>3</th>\n",
              "      <td>Rodneyfort</td>\n",
              "      <td>2019-02-10 23:22:03</td>\n",
              "      <td>23.44</td>\n",
              "      <td>5149245426178</td>\n",
              "      <td>34</td>\n",
              "      <td>Urban</td>\n",
              "    </tr>\n",
              "    <tr>\n",
              "      <th>4</th>\n",
              "      <td>South Jack</td>\n",
              "      <td>2019-03-06 04:28:35</td>\n",
              "      <td>34.58</td>\n",
              "      <td>3908451377344</td>\n",
              "      <td>46</td>\n",
              "      <td>Urban</td>\n",
              "    </tr>\n",
              "    <tr>\n",
              "      <th>5</th>\n",
              "      <td>South Latoya</td>\n",
              "      <td>2019-03-11 12:26:48</td>\n",
              "      <td>9.52</td>\n",
              "      <td>1994999424437</td>\n",
              "      <td>10</td>\n",
              "      <td>Urban</td>\n",
              "    </tr>\n",
              "    <tr>\n",
              "      <th>6</th>\n",
              "      <td>New Paulville</td>\n",
              "      <td>2019-02-27 11:17:56</td>\n",
              "      <td>43.25</td>\n",
              "      <td>793208410091</td>\n",
              "      <td>44</td>\n",
              "      <td>Urban</td>\n",
              "    </tr>\n",
              "    <tr>\n",
              "      <th>7</th>\n",
              "      <td>Simpsonburgh</td>\n",
              "      <td>2019-04-26 00:43:24</td>\n",
              "      <td>35.98</td>\n",
              "      <td>111953927754</td>\n",
              "      <td>21</td>\n",
              "      <td>Urban</td>\n",
              "    </tr>\n",
              "    <tr>\n",
              "      <th>8</th>\n",
              "      <td>South Karenland</td>\n",
              "      <td>2019-01-08 03:28:48</td>\n",
              "      <td>35.09</td>\n",
              "      <td>7995623208694</td>\n",
              "      <td>4</td>\n",
              "      <td>Urban</td>\n",
              "    </tr>\n",
              "    <tr>\n",
              "      <th>9</th>\n",
              "      <td>North Jasmine</td>\n",
              "      <td>2019-03-09 06:26:29</td>\n",
              "      <td>42.81</td>\n",
              "      <td>5327642267789</td>\n",
              "      <td>33</td>\n",
              "      <td>Urban</td>\n",
              "    </tr>\n",
              "  </tbody>\n",
              "</table>\n",
              "</div>"
            ],
            "text/plain": [
              "                 city                 date  ...  driver_count   type\n",
              "0  Lake Jonathanshire  2019-01-14 10:14:22  ...             5  Urban\n",
              "1  South Michelleport  2019-03-04 18:24:09  ...            72  Urban\n",
              "2  Port Samanthamouth  2019-02-24 04:29:00  ...            57  Urban\n",
              "3          Rodneyfort  2019-02-10 23:22:03  ...            34  Urban\n",
              "4          South Jack  2019-03-06 04:28:35  ...            46  Urban\n",
              "5        South Latoya  2019-03-11 12:26:48  ...            10  Urban\n",
              "6       New Paulville  2019-02-27 11:17:56  ...            44  Urban\n",
              "7        Simpsonburgh  2019-04-26 00:43:24  ...            21  Urban\n",
              "8     South Karenland  2019-01-08 03:28:48  ...             4  Urban\n",
              "9       North Jasmine  2019-03-09 06:26:29  ...            33  Urban\n",
              "\n",
              "[10 rows x 6 columns]"
            ]
          },
          "metadata": {
            "tags": []
          },
          "execution_count": 27
        }
      ]
    },
    {
      "cell_type": "code",
      "metadata": {
        "id": "8KgItoUSOhDB",
        "colab_type": "code",
        "colab": {
          "base_uri": "https://localhost:8080/",
          "height": 195
        },
        "outputId": "b77c6fd0-861c-4261-d856-674892996588"
      },
      "source": [
        "# Create the Suburban city DataFrame.\n",
        "suburban_cities_df = pyber_data_df[pyber_data_df[\"type\"] == \"Suburban\"]\n",
        "suburban_cities_df.head()"
      ],
      "execution_count": 24,
      "outputs": [
        {
          "output_type": "execute_result",
          "data": {
            "text/html": [
              "<div>\n",
              "<style scoped>\n",
              "    .dataframe tbody tr th:only-of-type {\n",
              "        vertical-align: middle;\n",
              "    }\n",
              "\n",
              "    .dataframe tbody tr th {\n",
              "        vertical-align: top;\n",
              "    }\n",
              "\n",
              "    .dataframe thead th {\n",
              "        text-align: right;\n",
              "    }\n",
              "</style>\n",
              "<table border=\"1\" class=\"dataframe\">\n",
              "  <thead>\n",
              "    <tr style=\"text-align: right;\">\n",
              "      <th></th>\n",
              "      <th>city</th>\n",
              "      <th>date</th>\n",
              "      <th>fare</th>\n",
              "      <th>ride_id</th>\n",
              "      <th>driver_count</th>\n",
              "      <th>type</th>\n",
              "    </tr>\n",
              "  </thead>\n",
              "  <tbody>\n",
              "    <tr>\n",
              "      <th>1625</th>\n",
              "      <td>Barronchester</td>\n",
              "      <td>2019-01-27 03:08:01</td>\n",
              "      <td>27.79</td>\n",
              "      <td>6653622887913</td>\n",
              "      <td>11</td>\n",
              "      <td>Suburban</td>\n",
              "    </tr>\n",
              "    <tr>\n",
              "      <th>1626</th>\n",
              "      <td>East Kentstad</td>\n",
              "      <td>2019-04-07 19:44:19</td>\n",
              "      <td>18.75</td>\n",
              "      <td>6575961095852</td>\n",
              "      <td>20</td>\n",
              "      <td>Suburban</td>\n",
              "    </tr>\n",
              "    <tr>\n",
              "      <th>1627</th>\n",
              "      <td>Lake Omar</td>\n",
              "      <td>2019-01-17 21:33:35</td>\n",
              "      <td>21.71</td>\n",
              "      <td>966911700371</td>\n",
              "      <td>22</td>\n",
              "      <td>Suburban</td>\n",
              "    </tr>\n",
              "    <tr>\n",
              "      <th>1628</th>\n",
              "      <td>Myersshire</td>\n",
              "      <td>2019-02-27 17:38:39</td>\n",
              "      <td>17.10</td>\n",
              "      <td>5706770909868</td>\n",
              "      <td>19</td>\n",
              "      <td>Suburban</td>\n",
              "    </tr>\n",
              "    <tr>\n",
              "      <th>1629</th>\n",
              "      <td>West Hannah</td>\n",
              "      <td>2019-04-19 01:06:59</td>\n",
              "      <td>37.78</td>\n",
              "      <td>2273047151891</td>\n",
              "      <td>12</td>\n",
              "      <td>Suburban</td>\n",
              "    </tr>\n",
              "  </tbody>\n",
              "</table>\n",
              "</div>"
            ],
            "text/plain": [
              "               city                 date  ...  driver_count      type\n",
              "1625  Barronchester  2019-01-27 03:08:01  ...            11  Suburban\n",
              "1626  East Kentstad  2019-04-07 19:44:19  ...            20  Suburban\n",
              "1627      Lake Omar  2019-01-17 21:33:35  ...            22  Suburban\n",
              "1628     Myersshire  2019-02-27 17:38:39  ...            19  Suburban\n",
              "1629    West Hannah  2019-04-19 01:06:59  ...            12  Suburban\n",
              "\n",
              "[5 rows x 6 columns]"
            ]
          },
          "metadata": {
            "tags": []
          },
          "execution_count": 24
        }
      ]
    },
    {
      "cell_type": "code",
      "metadata": {
        "id": "L4mlT6xuOpoP",
        "colab_type": "code",
        "colab": {
          "base_uri": "https://localhost:8080/",
          "height": 195
        },
        "outputId": "06e00b6f-f0d3-482d-ae77-fcff327be882"
      },
      "source": [
        "# Create the Rural city DataFrame.\n",
        "rural_cities_df = pyber_data_df[pyber_data_df[\"type\"] == \"Rural\"]\n",
        "rural_cities_df.head()"
      ],
      "execution_count": 25,
      "outputs": [
        {
          "output_type": "execute_result",
          "data": {
            "text/html": [
              "<div>\n",
              "<style scoped>\n",
              "    .dataframe tbody tr th:only-of-type {\n",
              "        vertical-align: middle;\n",
              "    }\n",
              "\n",
              "    .dataframe tbody tr th {\n",
              "        vertical-align: top;\n",
              "    }\n",
              "\n",
              "    .dataframe thead th {\n",
              "        text-align: right;\n",
              "    }\n",
              "</style>\n",
              "<table border=\"1\" class=\"dataframe\">\n",
              "  <thead>\n",
              "    <tr style=\"text-align: right;\">\n",
              "      <th></th>\n",
              "      <th>city</th>\n",
              "      <th>date</th>\n",
              "      <th>fare</th>\n",
              "      <th>ride_id</th>\n",
              "      <th>driver_count</th>\n",
              "      <th>type</th>\n",
              "    </tr>\n",
              "  </thead>\n",
              "  <tbody>\n",
              "    <tr>\n",
              "      <th>2250</th>\n",
              "      <td>Randallchester</td>\n",
              "      <td>2019-04-13 11:13:31</td>\n",
              "      <td>43.22</td>\n",
              "      <td>1076079536213</td>\n",
              "      <td>9</td>\n",
              "      <td>Rural</td>\n",
              "    </tr>\n",
              "    <tr>\n",
              "      <th>2251</th>\n",
              "      <td>North Holly</td>\n",
              "      <td>2019-02-02 14:54:00</td>\n",
              "      <td>12.42</td>\n",
              "      <td>1985256326182</td>\n",
              "      <td>8</td>\n",
              "      <td>Rural</td>\n",
              "    </tr>\n",
              "    <tr>\n",
              "      <th>2252</th>\n",
              "      <td>Michaelberg</td>\n",
              "      <td>2019-03-27 18:27:34</td>\n",
              "      <td>54.85</td>\n",
              "      <td>4421836952718</td>\n",
              "      <td>6</td>\n",
              "      <td>Rural</td>\n",
              "    </tr>\n",
              "    <tr>\n",
              "      <th>2253</th>\n",
              "      <td>Lake Latoyabury</td>\n",
              "      <td>2019-02-23 21:12:24</td>\n",
              "      <td>47.90</td>\n",
              "      <td>3269652929887</td>\n",
              "      <td>2</td>\n",
              "      <td>Rural</td>\n",
              "    </tr>\n",
              "    <tr>\n",
              "      <th>2254</th>\n",
              "      <td>Lake Latoyabury</td>\n",
              "      <td>2019-05-06 08:57:56</td>\n",
              "      <td>51.80</td>\n",
              "      <td>4018025271936</td>\n",
              "      <td>2</td>\n",
              "      <td>Rural</td>\n",
              "    </tr>\n",
              "  </tbody>\n",
              "</table>\n",
              "</div>"
            ],
            "text/plain": [
              "                 city                 date  ...  driver_count   type\n",
              "2250   Randallchester  2019-04-13 11:13:31  ...             9  Rural\n",
              "2251      North Holly  2019-02-02 14:54:00  ...             8  Rural\n",
              "2252      Michaelberg  2019-03-27 18:27:34  ...             6  Rural\n",
              "2253  Lake Latoyabury  2019-02-23 21:12:24  ...             2  Rural\n",
              "2254  Lake Latoyabury  2019-05-06 08:57:56  ...             2  Rural\n",
              "\n",
              "[5 rows x 6 columns]"
            ]
          },
          "metadata": {
            "tags": []
          },
          "execution_count": 25
        }
      ]
    },
    {
      "cell_type": "code",
      "metadata": {
        "id": "e0bNIU1VO77v",
        "colab_type": "code",
        "colab": {
          "base_uri": "https://localhost:8080/",
          "height": 235
        },
        "outputId": "02fafcb5-047b-4f4e-f409-8f0732fc6082"
      },
      "source": [
        "# Get the number of rides for urban cities.\n",
        "urban_ride_count = urban_cities_df.groupby([\"city\"]).count()[\"ride_id\"]\n",
        "urban_ride_count"
      ],
      "execution_count": 28,
      "outputs": [
        {
          "output_type": "execute_result",
          "data": {
            "text/plain": [
              "city\n",
              "Amandaburgh            18\n",
              "Barajasview            22\n",
              "Carriemouth            27\n",
              "Christopherfurt        27\n",
              "Deanville              19\n",
              "                       ..\n",
              "West Patrickchester    16\n",
              "West Robert            31\n",
              "West Samuelburgh       25\n",
              "Williamsstad           23\n",
              "Williamsview           20\n",
              "Name: ride_id, Length: 66, dtype: int64"
            ]
          },
          "metadata": {
            "tags": []
          },
          "execution_count": 28
        }
      ]
    },
    {
      "cell_type": "code",
      "metadata": {
        "id": "5s9E1pfIPlBH",
        "colab_type": "code",
        "colab": {}
      },
      "source": [
        "# Create the suburban and rural ride count.\n",
        "suburban_ride_count = suburban_cities_df.groupby([\"city\"]).count()[\"ride_id\"]\n",
        "#suburban_ride_count.head()\n",
        "rural_ride_count = rural_cities_df.groupby([\"city\"]).count()[\"ride_id\"]\n",
        "#rural_ride_count"
      ],
      "execution_count": 32,
      "outputs": []
    },
    {
      "cell_type": "code",
      "metadata": {
        "id": "DlO6y4_CQX4H",
        "colab_type": "code",
        "colab": {
          "base_uri": "https://localhost:8080/",
          "height": 134
        },
        "outputId": "ed42c6f6-63d4-4c03-f9d2-2798363e4ff8"
      },
      "source": [
        "# Get average fare for each city in the urban cities.\n",
        "urban_avg_fare = urban_cities_df.groupby([\"city\"]).mean()[\"fare\"]\n",
        "urban_avg_fare.head()"
      ],
      "execution_count": 36,
      "outputs": [
        {
          "output_type": "execute_result",
          "data": {
            "text/plain": [
              "city\n",
              "Amandaburgh        24.641667\n",
              "Barajasview        25.332273\n",
              "Carriemouth        28.314444\n",
              "Christopherfurt    24.501852\n",
              "Deanville          25.842632\n",
              "Name: fare, dtype: float64"
            ]
          },
          "metadata": {
            "tags": []
          },
          "execution_count": 36
        }
      ]
    },
    {
      "cell_type": "code",
      "metadata": {
        "id": "rfBcJadcRMiY",
        "colab_type": "code",
        "colab": {}
      },
      "source": [
        "# Get average fare for each city in the suburban and rural cities.\n",
        "suburban_avg_fare = suburban_cities_df.groupby([\"city\"]).mean()[\"fare\"]\n",
        "rural_avg_fare = rural_cities_df.groupby([\"city\"]).mean()[\"fare\"]"
      ],
      "execution_count": 35,
      "outputs": []
    },
    {
      "cell_type": "code",
      "metadata": {
        "id": "QdN2SgiTRTLf",
        "colab_type": "code",
        "colab": {
          "base_uri": "https://localhost:8080/",
          "height": 134
        },
        "outputId": "476474ab-ae94-4249-9ec3-d1691aa82a6e"
      },
      "source": [
        "# Get average number of drivers for urban cities.\n",
        "urban_driver_count = urban_cities_df.groupby([\"city\"]).mean()[\"driver_count\"]\n",
        "urban_driver_count.head()"
      ],
      "execution_count": 38,
      "outputs": [
        {
          "output_type": "execute_result",
          "data": {
            "text/plain": [
              "city\n",
              "Amandaburgh        12.0\n",
              "Barajasview        26.0\n",
              "Carriemouth        52.0\n",
              "Christopherfurt    41.0\n",
              "Deanville          49.0\n",
              "Name: driver_count, dtype: float64"
            ]
          },
          "metadata": {
            "tags": []
          },
          "execution_count": 38
        }
      ]
    },
    {
      "cell_type": "code",
      "metadata": {
        "id": "mO-j0XuSRvb4",
        "colab_type": "code",
        "colab": {}
      },
      "source": [
        "# Get the average number of drivers for each city for the suburban and rural cities.\n",
        "suburban_driver_count = suburban_cities_df.groupby([\"city\"]).mean()[\"driver_count\"]\n",
        "rural_driver_count = rural_cities_df.groupby([\"city\"]).mean()[\"driver_count\"]"
      ],
      "execution_count": 39,
      "outputs": []
    },
    {
      "cell_type": "code",
      "metadata": {
        "id": "v7CB0qq_Rxkm",
        "colab_type": "code",
        "colab": {}
      },
      "source": [
        "# x-axis : urban_ride_count , suburban_ride_count , rural_ride_count\n",
        "# y-axis : urban_avg_fare , suburban_avg_fare , rural_avg_fare\n",
        "# Size of each marker : urban_driver_count , suburban_driver_count , rural_driver_count"
      ],
      "execution_count": null,
      "outputs": []
    },
    {
      "cell_type": "code",
      "metadata": {
        "id": "jV0F8NktSaag",
        "colab_type": "code",
        "colab": {
          "base_uri": "https://localhost:8080/",
          "height": 295
        },
        "outputId": "ace4bf07-e4a2-4ee5-ea04-49e8df17e76a"
      },
      "source": [
        "# Build the scatter plots for urban cities.\n",
        "#plt.scatter(urban_ride_count, urban_avg_fare, s=urban_driver_count)\n",
        "plt.scatter(urban_ride_count, urban_avg_fare, s=10*urban_driver_count, \n",
        "            c=\"coral\", edgecolor=\"k\", linewidths=1,\n",
        "            label=\"Urban\")\n",
        "plt.title(\"PyBer Ride-Sharing Data (2019)\")\n",
        "plt.ylabel(\"Average Fare ($)\")\n",
        "plt.xlabel(\"Total Number of Rides (Per City)\")\n",
        "plt.grid(True)\n",
        "# Add the legend.\n",
        "plt.legend()\n",
        "plt.show()"
      ],
      "execution_count": 49,
      "outputs": [
        {
          "output_type": "display_data",
          "data": {
            "image/png": "[encoded data removed]",
            "text/plain": [
              "<Figure size 432x288 with 1 Axes>"
            ]
          },
          "metadata": {
            "tags": [],
            "needs_background": "light"
          }
        }
      ]
    },
    {
      "cell_type": "code",
      "metadata": {
        "id": "XlSSWC_ZTp0f",
        "colab_type": "code",
        "colab": {
          "base_uri": "https://localhost:8080/",
          "height": 295
        },
        "outputId": "acf64bec-f374-4b4d-8898-335917ec02cb"
      },
      "source": [
        "# Build the scatter plots for suburban cities.\n",
        "plt.scatter(suburban_ride_count, suburban_avg_fare, s=10*suburban_driver_count,\n",
        "            color='skyblue', edgecolor='k', linewidths=1,\n",
        "            label=\"Suburban\")\n",
        "plt.title(\"PyBer Ride-Sharing Data (2019)\")\n",
        "plt.ylabel(\"Average Fare ($)\")\n",
        "plt.xlabel(\"Total Number of Rides (Per City)\")\n",
        "plt.grid(True)\n",
        "# Add the legend.\n",
        "plt.legend()\n",
        "plt.show()"
      ],
      "execution_count": 52,
      "outputs": [
        {
          "output_type": "display_data",
          "data": {
            "image/png": "[encoded data removed]",
            "text/plain": [
              "<Figure size 432x288 with 1 Axes>"
            ]
          },
          "metadata": {
            "tags": [],
            "needs_background": "light"
          }
        }
      ]
    },
    {
      "cell_type": "code",
      "metadata": {
        "id": "b1KGdnJMS_03",
        "colab_type": "code",
        "colab": {
          "base_uri": "https://localhost:8080/",
          "height": 295
        },
        "outputId": "e22b0187-5371-4a67-ae10-ff980c4c07d8"
      },
      "source": [
        "# Build the scatter plots for rural cities.\n",
        "plt.scatter(rural_ride_count, rural_avg_fare, s=10*rural_driver_count,\n",
        "            color='gold', edgecolor='k', linewidths=1,\n",
        "            label=\"Rural\")\n",
        "plt.title(\"PyBer Ride-Sharing Data (2019)\")\n",
        "plt.ylabel(\"Average Fare ($)\")\n",
        "plt.xlabel(\"Total Number of Rides (Per City)\")\n",
        "plt.grid(True)\n",
        "# Add the legend.\n",
        "plt.legend()\n",
        "plt.show()"
      ],
      "execution_count": 53,
      "outputs": [
        {
          "output_type": "display_data",
          "data": {
            "image/png": "[encoded data removed]",
            "text/plain": [
              "<Figure size 432x288 with 1 Axes>"
            ]
          },
          "metadata": {
            "tags": [],
            "needs_background": "light"
          }
        }
      ]
    },
    {
      "cell_type": "code",
      "metadata": {
        "id": "6ZREwbJ2VCeO",
        "colab_type": "code",
        "colab": {
          "base_uri": "https://localhost:8080/",
          "height": 303
        },
        "outputId": "dd6bde9f-30f8-42d9-ce40-1aa02de3ee1d"
      },
      "source": [
        "# Add the scatter charts for each type of city.\n",
        "plt.scatter(urban_ride_count, urban_avg_fare, s=10*urban_driver_count, \n",
        "            c=\"coral\", edgecolor=\"k\", linewidths=1,\n",
        "            alpha=0.8, label=\"Urban\")\n",
        "\n",
        "plt.scatter(suburban_ride_count,\n",
        "      suburban_avg_fare,\n",
        "      s=10*suburban_driver_count, c=\"skyblue\",\n",
        "      edgecolor=\"black\", linewidths=1,\n",
        "      alpha=0.8, label=\"Suburban\")\n",
        "\n",
        "plt.scatter(rural_ride_count,\n",
        "      rural_avg_fare,\n",
        "      s=10*rural_driver_count, c=\"gold\",\n",
        "      edgecolor=\"black\", linewidths=1,\n",
        "      alpha=0.8, label=\"Rural\")\n",
        "\n",
        "# Incorporate the other graph properties\n",
        "plt.title(\"PyBer Ride-Sharing Data (2019)\", fontsize=20)\n",
        "plt.ylabel(\"Average Fare ($)\", fontsize=12)\n",
        "plt.xlabel(\"Total Number of Rides (Per City)\", fontsize=12)\n",
        "plt.grid(True)\n",
        "\n",
        "# Create a legend\n",
        "lgnd = plt.legend(fontsize=\"12\", mode=\"Expanded\",\n",
        "         scatterpoints=1, loc=\"best\", title=\"City Types\")\n",
        "lgnd.legendHandles[0]._sizes = [75]\n",
        "lgnd.legendHandles[1]._sizes = [75]\n",
        "lgnd.legendHandles[2]._sizes = [75]\n",
        "lgnd.get_title().set_fontsize(12)\n",
        "\n",
        "# Incorporate a text label about circle size.\n",
        "plt.text(42, 35, \"Note: Circle size correlates with driver count per city.\", fontsize=\"12\")\n",
        "\n",
        "# Save the figure.\n",
        "plt.savefig(\"analysis/Fig1.png\")\n",
        "\n",
        "# Show the plot\n",
        "plt.show()"
      ],
      "execution_count": 60,
      "outputs": [
        {
          "output_type": "display_data",
          "data": {
            "image/png": "[encoded data removed]",
            "text/plain": [
              "<Figure size 432x288 with 1 Axes>"
            ]
          },
          "metadata": {
            "tags": [],
            "needs_background": "light"
          }
        }
      ]
    }
  ]
}